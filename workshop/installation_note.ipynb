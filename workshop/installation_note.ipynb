{
 "cells": [
  {
   "cell_type": "markdown",
   "metadata": {
    "toc": "true"
   },
   "source": [
    "# Table of Contents\n",
    " <p><div class=\"lev1 toc-item\"><a href=\"#Installation-Notes\" data-toc-modified-id=\"Installation-Notes-1\"><span class=\"toc-item-num\">1&nbsp;&nbsp;</span>Installation Notes</a></div><div class=\"lev2 toc-item\"><a href=\"#Installing-Python\" data-toc-modified-id=\"Installing-Python-11\"><span class=\"toc-item-num\">1.1&nbsp;&nbsp;</span>Installing Python</a></div><div class=\"lev2 toc-item\"><a href=\"#Installing-PyCharm\" data-toc-modified-id=\"Installing-PyCharm-12\"><span class=\"toc-item-num\">1.2&nbsp;&nbsp;</span>Installing PyCharm</a></div><div class=\"lev3 toc-item\"><a href=\"#PyCharm-Cheatsheet\" data-toc-modified-id=\"PyCharm-Cheatsheet-121\"><span class=\"toc-item-num\">1.2.1&nbsp;&nbsp;</span>PyCharm Cheatsheet</a></div><div class=\"lev3 toc-item\"><a href=\"#Plugins-and-other-stuff\" data-toc-modified-id=\"Plugins-and-other-stuff-122\"><span class=\"toc-item-num\">1.2.2&nbsp;&nbsp;</span>Plugins and other stuff</a></div>"
   ]
  },
  {
   "cell_type": "markdown",
   "metadata": {},
   "source": [
    "---\n",
    "# Installation Notes\n",
    "\n",
    "Before getting started you will need to install Python, PyCharm and a few plugins to get your started.\n",
    "\n",
    "## Installing Python\n",
    "\n",
    "For the majority of the workshops (and beyond), it would be best to install the full Python distribution called [Anaconda](https://www.continuum.io/downloads).  It will include the majority of libraries you will need to do scientific computing, math and others.  If for some reason Anaconda fails to install, a vanilla Python 2.7.11 ([Win or OSX Download here](https://www.python.org/downloads/release/python-2711/)) will do.\n",
    "\n",
    "Things to remember:\n",
    "* use the 64bit Python 2.7.11 version of the installation\n",
    "* the installation will take some time, so try not to interrupt it as it is working\n",
    "\n",
    "\n",
    "## Installing PyCharm\n",
    "While there are a ton of editors out there for working with Python, I have come to enjoy PyCharm and will introduce it to you in hopes that you too might decide to continue using it past these workshops.  There are _many_ other really good editors, so feel free to shop around.\n",
    "\n",
    "Installing PyCharm should be a breeze and it works on either the Mac or PC platforms:\n",
    "\n",
    "* Go to [Pycharm Community Edition](https://www.jetbrains.com/pycharm/download) and download the edition for your machine.\n",
    "\n",
    "### PyCharm Cheatsheet\n",
    "PyCharm _as an editor_ is pretty basic, but there are a lot of extras you will want to know about.  The best place to start is with Keyboard shortcuts and [this guide](https://resources.jetbrains.com/assets/products/pycharm/PyCharm_ReferenceCard.pdf) will give you everything you need in one nice PDF.  Bookmark/save this file as  you might use it over and over well after this workshop until these commands are ingrained in your soul (should you be brave enough to stick with PyCharm).\n",
    "\n",
    "### Plugins and other stuff\n",
    "After you have installed PyCharm, you can poke around and play with the functionality a bit, but off the bat you will should install a plugin that will be very useful for writing Markdown (more on this later).\n",
    "\n",
    "Go into the `File->Settings->Plugins` and click the ``\"Browse Repositories...\"`` button toward the middle of the popup dialog.\n",
    "\n",
    "![Browse Repo](./assets/img/browse_repo_btn.PNG)\n",
    "\n",
    "In the ``\"search\"`` box type ``\"markdown\"`` as shown:\n",
    "\n",
    "![Browse Repo](./assets/img/gfm_markdown_search.PNG)\n",
    "\n",
    "Choose the ``\"gfm\"`` plugin and click the ``\"Install\"` button that pops up.\n",
    "\n",
    "After the installation, you'll be prompted to restart PyCharm.  Do that.\n",
    "\n",
    "Now go back to the `File->Settings->Plugins` and check to see `gfm` is installed -- your screen should look something like this:\n",
    "\n",
    "![Plugin Check](./assets/img/basic_plugin_check.PNG)\n",
    "\n",
    "\n",
    "\n"
   ]
  }
 ],
 "metadata": {
  "anaconda-cloud": {},
  "kernelspec": {
   "display_name": "Python [conda root]",
   "language": "python",
   "name": "conda-root-py"
  },
  "language_info": {
   "codemirror_mode": {
    "name": "ipython",
    "version": 2
   },
   "file_extension": ".py",
   "mimetype": "text/x-python",
   "name": "python",
   "nbconvert_exporter": "python",
   "pygments_lexer": "ipython2",
   "version": "2.7.12"
  },
  "toc": {
   "nav_menu": {
    "height": "104px",
    "width": "252px"
   },
   "navigate_menu": true,
   "number_sections": false,
   "sideBar": true,
   "threshold": 4,
   "toc_cell": true,
   "toc_section_display": "block",
   "toc_window_display": false
  }
 },
 "nbformat": 4,
 "nbformat_minor": 1
}
