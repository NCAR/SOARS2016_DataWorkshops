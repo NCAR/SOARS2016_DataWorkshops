{
 "cells": [
  {
   "cell_type": "markdown",
   "metadata": {},
   "source": [
    "# WORKSHOP 2 / Jupyter Notebooks\n",
    "\n",
    "\n",
    "**WORKSHOP NAVIGATION**\n",
    "\n",
    "---\n",
    "\n",
    "\n",
    "* [Workshop 2 Overview](ws02a_overview.ipynb)\n",
    "* **A quick introduction to Jupyter Notebooks**\n",
    "* [The basics of Pandas](ws02c_pandas.ipynb)\n",
    "* [In-workshop explorations](ws02_in_workshop_explorations.ipynb)\n",
    "\n",
    "\n",
    "---\n",
    "**CONTENTS OF THIS FILE**\n",
    " <p><div class=\"lev1 toc-item\"><a href=\"#WORKSHOP-2-/-Jupyter-Notebooks\" data-toc-modified-id=\"WORKSHOP-2-/-Jupyter-Notebooks-1\"><span class=\"toc-item-num\">1&nbsp;&nbsp;</span>WORKSHOP 2 / Jupyter Notebooks</a></div><div class=\"lev2 toc-item\"><a href=\"#Jupyter-NB-in-2-minutes\" data-toc-modified-id=\"Jupyter-NB-in-2-minutes-11\"><span class=\"toc-item-num\">1.1&nbsp;&nbsp;</span>Jupyter NB in 2 minutes</a></div><div class=\"lev2 toc-item\"><a href=\"#Why-Jupyter-Notebooks-are-important\" data-toc-modified-id=\"Why-Jupyter-Notebooks-are-important-12\"><span class=\"toc-item-num\">1.2&nbsp;&nbsp;</span>Why Jupyter Notebooks are important</a></div><div class=\"lev2 toc-item\"><a href=\"#Interacting-with-code\" data-toc-modified-id=\"Interacting-with-code-13\"><span class=\"toc-item-num\">1.3&nbsp;&nbsp;</span>Interacting with code</a></div><div class=\"lev2 toc-item\"><a href=\"#Visualizing-data\" data-toc-modified-id=\"Visualizing-data-14\"><span class=\"toc-item-num\">1.4&nbsp;&nbsp;</span>Visualizing data</a></div><div class=\"lev2 toc-item\"><a href=\"#Saving-and-sharing\" data-toc-modified-id=\"Saving-and-sharing-15\"><span class=\"toc-item-num\">1.5&nbsp;&nbsp;</span>Saving and sharing</a></div><div class=\"lev2 toc-item\"><a href=\"#Documenting\" data-toc-modified-id=\"Documenting-16\"><span class=\"toc-item-num\">1.6&nbsp;&nbsp;</span>Documenting</a></div><div class=\"lev2 toc-item\"><a href=\"#Mathematical-Markup\" data-toc-modified-id=\"Mathematical-Markup-17\"><span class=\"toc-item-num\">1.7&nbsp;&nbsp;</span>Mathematical Markup</a></div>\n",
    " \n",
    "---"
   ]
  },
  {
   "cell_type": "markdown",
   "metadata": {},
   "source": [
    "## Jupyter NB in 2 minutes\n",
    "[Jupyter Notebooks](https://www.jupyter.org) are becoming the de facto tool these days for doing exploratory data analysis.  The easiest way to describe _what_ they are, is to put them into the context they belong.  \n",
    "\n",
    "Consider the scenario that you have some data, and you want to interactively explore that data -- but you want to do it in an environment that might provide you :\n",
    "\n",
    "1. the ability to see and interact with the entire stream of your exploration in a single tool,\n",
    "2. the ability to interactively execute each part of your exploration as Python code, and also edit each step of your exploration (go back), if you need to,\n",
    "3. the ability to visualize you data inline with your other Python code while also providing the abiliy to export those visualizations,\n",
    "4. the ability to save, organize, edit and share your explorations with others, and\n",
    "5. the ability to include documentation inline with your code and visualizations, including mathematical symbols and formulae.\n",
    "\n",
    "Well that's pretty much what Jupyter Notebooks are and much more!\n",
    "\n",
    "## Why Jupyter Notebooks are important\n",
    "If you're familiar with IPython, you already know something about Jupyter Notebooks, since IPython _was_ the name of the Python binding of Jupyter Notebooks.  What has happened is that JNB is no longer just a tool for Pythonistas ... it has extended its reach into many other languages, including R, Julia, Javascript and many others.  We won't touch in on how cool this actually is and _what_ this really represents for the future of the platform as an interactive system for exploring and sharing data, scientific inquiries, code and the like among multiple communities, but be prepared for many interesting things to result from this expansion.\n",
    "\n",
    "But that doesn't touch in on the **why** of JNB -- the so what?  Well, it's my opinion (and I'm not alone in this), that much of the future of inquiry and scientific analysis will occur in environments _like_ JNB (I do not assume JNB will exist in that future, but it very well may, so you'll be right at home if it does.\n",
    "\n",
    "The more interesting part about JNB are points (2) through (5) above."
   ]
  },
  {
   "cell_type": "markdown",
   "metadata": {},
   "source": [
    "## Interacting with code\n",
    "\n",
    "Interacting with code in JNB is pretty easy ... just write it!  Just remember that the variables you created in cell X will remain through your entire session."
   ]
  },
  {
   "cell_type": "code",
   "execution_count": 1,
   "metadata": {
    "collapsed": false
   },
   "outputs": [
    {
     "name": "stdout",
     "output_type": "stream",
     "text": [
      "[2, 4, 8, 16, 32, 64, 128, 256, 512]\n"
     ]
    }
   ],
   "source": [
    "a = 1\n",
    "b = 2\n",
    "exp = [b**e for e in xrange(1,10)]\n",
    "\n",
    "print exp"
   ]
  },
  {
   "cell_type": "code",
   "execution_count": 2,
   "metadata": {
    "collapsed": false
   },
   "outputs": [
    {
     "data": {
      "text/plain": [
       "['a',\n",
       " 'b',\n",
       " 'c',\n",
       " 'd',\n",
       " 'e',\n",
       " 'f',\n",
       " 'g',\n",
       " 'h',\n",
       " 'i',\n",
       " 'j',\n",
       " 'k',\n",
       " 'l',\n",
       " 'm',\n",
       " 'n',\n",
       " 'o',\n",
       " 'p',\n",
       " 'q',\n",
       " 'r',\n",
       " 's',\n",
       " 't',\n",
       " 'u',\n",
       " 'v',\n",
       " 'w',\n",
       " 'x',\n",
       " 'y',\n",
       " 'z']"
      ]
     },
     "execution_count": 2,
     "metadata": {},
     "output_type": "execute_result"
    }
   ],
   "source": [
    "[chr(c) for c in xrange(97, 97+26)]"
   ]
  },
  {
   "cell_type": "code",
   "execution_count": 3,
   "metadata": {
    "collapsed": false
   },
   "outputs": [],
   "source": [
    "capitals = [chr(c) for c in xrange(65,65+26)]\n",
    "lowercases = [chr(c) for c in xrange(97,97+26)]\n",
    "\n",
    "def count_caps(input_string):\n",
    "    count = 0\n",
    "    for s in input_string:\n",
    "        if s in capitals:\n",
    "            count += 1\n",
    "    return count"
   ]
  },
  {
   "cell_type": "markdown",
   "metadata": {},
   "source": [
    "Now we have function that will count the number of capital letters in a string.\n",
    "\n",
    "So let's generate some random strings with another function."
   ]
  },
  {
   "cell_type": "code",
   "execution_count": 4,
   "metadata": {
    "collapsed": false
   },
   "outputs": [
    {
     "name": "stdout",
     "output_type": "stream",
     "text": [
      "hENNq has 3 capitals\n",
      "lUPTpGjMdvbKGccP has 8 capitals\n",
      "pvYKxQEjqXidL has 6 capitals\n",
      "vfoEd has 1 capitals\n",
      "EhZa has 2 capitals\n",
      "ZMPGoEES has 7 capitals\n",
      "tqMElYuIooeoVaRhTX has 8 capitals\n",
      "fyAumXfszqmvHadfNyaR has 5 capitals\n",
      "bVCrEGnZ has 5 capitals\n"
     ]
    }
   ],
   "source": [
    "'''\n",
    "    generate a random string of alphas between 2 and 20 characters long\n",
    "'''\n",
    "def generate_random_string():\n",
    "    import random\n",
    "\n",
    "    string_size = random.randint(2, 20)\n",
    "    random_string = ''\n",
    "    \n",
    "    for c in xrange(string_size):\n",
    "        if random.randint(0,1):\n",
    "            cap_or_lc = 97\n",
    "        else:\n",
    "            cap_or_lc = 65\n",
    "            \n",
    "        random_string += chr(random.randint(cap_or_lc, cap_or_lc + 25))\n",
    "    \n",
    "    return random_string \n",
    "    \n",
    "for i in xrange(1,10):\n",
    "    rs = generate_random_string()\n",
    "    print \"{} has {} capitals\".format(rs, count_caps(rs))"
   ]
  },
  {
   "cell_type": "markdown",
   "metadata": {},
   "source": [
    "You can see how to dig deeper, but now let's visualize some data."
   ]
  },
  {
   "cell_type": "markdown",
   "metadata": {},
   "source": [
    "## Visualizing data"
   ]
  },
  {
   "cell_type": "markdown",
   "metadata": {},
   "source": [
    "We're not going to spend a lot of time here talking about plotting data and playing with Pandas, [because that's what the Pandas primer is about], but to give you a taste, let's say we have 10 random values between 1 and 100 and we want to plot them:"
   ]
  },
  {
   "cell_type": "code",
   "execution_count": 5,
   "metadata": {
    "collapsed": false
   },
   "outputs": [
    {
     "data": {
      "text/plain": [
       "<matplotlib.collections.PathCollection at 0x90adba8>"
      ]
     },
     "execution_count": 5,
     "metadata": {},
     "output_type": "execute_result"
    },
    {
     "data": {
      "image/png": "[encoded data removed]",
      "text/plain": [
       "<matplotlib.figure.Figure at 0x8c30668>"
      ]
     },
     "metadata": {},
     "output_type": "display_data"
    }
   ],
   "source": [
    "import pandas as pd\n",
    "import matplotlib.pyplot as plt\n",
    "import matplotlib\n",
    "import random\n",
    "matplotlib.style.use('ggplot')\n",
    "%matplotlib inline\n",
    "\n",
    "df = pd.DataFrame([random.randint(1,100) for x in xrange(0,10)])\n",
    "plt.scatter(xrange(0, 10), df)"
   ]
  },
  {
   "cell_type": "markdown",
   "metadata": {},
   "source": [
    "## Saving and sharing\n",
    "\n",
    "You can easily save your notebooks, but what makes them interesting is if you share them.  Just like these are on Github, you can find that you can send a `ipynb` file directly to someone.  While this isn't recommended, since some revision control might be more apropos if you want to keep track of changes and actually _collaborate_, it could be done.\n",
    "\n",
    "You can also head over to the [Jupyter Project](https://www.jupyter.org) and make notebooks visible there, among other places."
   ]
  },
  {
   "cell_type": "markdown",
   "metadata": {},
   "source": [
    "## Documenting\n",
    "\n",
    "The fun really begins with how you can take the documentation of your notebook to the next level (much like this one and all the one's in this workshop).\n",
    "\n",
    "We won't spend much time on it, but the cells in your noebook can be written using [Markdown]().  Markdown files (ending in `.md` extension) are easy to write and relieve you of the burden of proprietary tools like Word and also allow you to more freely focus on the content of your writing while giving you some styling of your document.  But we don't have to deal with _separate_ files ... we can just make a cell a markdown cell and start writing.\n",
    "\n",
    "## Mathematical Markup\n",
    "\n",
    "The thing you'll want to exploit more (if you need it), is using $\\LaTeX$ commands to create beautiful math formulas inline with your code and document text.\n",
    "\n",
    "For example, say we want the to express a sum of number from 1 to _n_.  In $\\LaTeX$ we write \n",
    "\n",
    "    \\sum_{i=1}^n i\n",
    "\n",
    "Which inline yields $ \\sum_{i=1}^n i $ by simply putting `$` around the formula.\n",
    "\n",
    "Of course you can get mist more complicated than this and when you find you need the formula separated from the rest of your text, use two dollar signs `$$` and you'll get something like this:\n",
    "\n",
    "$$\n",
    "\\left( \\sum_{k=1}^n a_k b_k \\right)^2 \\leq \\left( \\sum_{k=1}^n a{_k}^2 \\right) \\left( \\sum_{k=1}^n b{_k}^2 \\right)\n",
    "$$\n",
    "\n",
    "You get the point ..."
   ]
  }
 ],
 "metadata": {
  "anaconda-cloud": {},
  "kernelspec": {
   "display_name": "Python [default]",
   "language": "python",
   "name": "python2"
  },
  "language_info": {
   "codemirror_mode": {
    "name": "ipython",
    "version": 2
   },
   "file_extension": ".py",
   "mimetype": "text/x-python",
   "name": "python",
   "nbconvert_exporter": "python",
   "pygments_lexer": "ipython2",
   "version": "2.7.12"
  },
  "toc": {
   "nav_menu": {
    "height": "160px",
    "width": "252px"
   },
   "navigate_menu": true,
   "number_sections": false,
   "sideBar": true,
   "threshold": 4,
   "toc_cell": false,
   "toc_section_display": "block",
   "toc_window_display": true
  }
 },
 "nbformat": 4,
 "nbformat_minor": 0
}
