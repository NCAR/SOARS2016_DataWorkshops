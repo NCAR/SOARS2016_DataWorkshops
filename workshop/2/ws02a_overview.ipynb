{
 "cells": [
  {
   "cell_type": "markdown",
   "metadata": {},
   "source": [
    "# WORKSHOP 2\n",
    "> The supreme accomplishment is to blur the line between work and play. ~ Arnold J. Toynbee (1889 - 1975)\n",
    "\n",
    "## Goals\n",
    "* quick review of [exercises](https://github.com/NCAR/SOARS2016_DataWorkshops/tree/master/workshop/1/exercises) and my proposed [solutions]((https://github.com/NCAR/SOARS2016_DataWorkshops/tree/master/workshop/1/exercises/solutions.py))\n",
    "* [Pandas](https://pandas.pydata.org) at a high level\n",
    "* [Jupyter Notebooks](https://jupyter.org) (how to invoke from PyCharm + how to invoke from command line)\n",
    "* [Series](http://pandas.pydata.org/pandas-docs/stable/dsintro.html#series) + [Dataframes](http://pandas.pydata.org/pandas-docs/stable/dsintro.html#dataframe)\n",
    "* loading data into dataframes\n",
    "* [indexing, slicing and filtering](http://pandas.pydata.org/pandas-docs/stable/indexing.html#indexing-and-selecting-data) a Dataframe to get the data of interest\n",
    "* basic stats operations ([describe()](http://pandas.pydata.org/pandas-docs/stable/generated/pandas.DataFrame.describe.html#pandas.DataFrame.describe), [mean()](http://pandas.pydata.org/pandas-docs/stable/generated/pandas.DataFrame.mean.html#pandas.DataFrame.mean), [median()](http://pandas.pydata.org/pandas-docs/stable/generated/pandas.DataFrame.median.html#pandas.DataFrame.median), etc.)\n",
    "* [matplotlib](http://matplotlib.org/) (if there is time)\n",
    "\n",
    "\n",
    "## Tools\n",
    "In this workshop we're going to go little deeper into Python for scientific computing.  In particular, we're going to talk about Jupyter Notebooks and Pandas.\n",
    "\n",
    "\n",
    "| Tool | Purpose |\n",
    "|------|---------|\n",
    "|Jupyter Notebooks (NB)|[Jupyter Notebooks](https://jupyter.org) are a compact, interactive way to allow you to do EDA (Exploratory Data Analysis).  You can create notebooks that are private, share them on Github and [nbviewer](http://nbviewer.jupyter.org/)|\n",
    "|Pandas|[Pandas](http://pandas.pydata.org/) is a Python library that allows you to do data manipulations and provides basic statistical tools to operate over that data.  It will save us a lot of time, and some of the text file contortions we did in Workshop 1 will not longer be necessary. |\n",
    "\n",
    "## Pandas in 2 minutes\n",
    "Pandas is a standard entry point into data manipulation in Python.  It provides a set of standard tools for loading, manipulating and geting basic statistical information about your data.  The documentation for Pandas is excellent [directly on their website](http://pandas.pydata.org) ... and the tutorials are highly recommended.\n",
    "\n",
    "In essence Pandas provides you the ability to:\n",
    "\n",
    "1. load data from various sources (CSV, databases, HTTP, etc.),\n",
    "2. manipulate, reshape and recompose the loaded data (e.g. remove bad data, filter data),\n",
    "3. do basic statistical analysis on the data,\n",
    "4. store the data back down into a datasource (CSV, database, etc.).\n",
    "\n",
    "You will find Pandas a bundle of joy once you get the hang of it!\n",
    "\n",
    "## In-workshop notebook ...\n",
    "The workbook that we did in the workshop can be found [here](./ws02_in_workshop_explorations.ipynb).\n",
    "\n",
    "## Exercises\n",
    "Try them out [just for fun or extra practice](./exercises/)."
   ]
  },
  {
   "cell_type": "markdown",
   "metadata": {},
   "source": [
    "## Workshop flow\n",
    "\n",
    "In this workshop we will cover:\n",
    "* [A quick introduction to Jupyter Notebooks](ws02b_jupyter.ipynb)\n",
    "* [The basics of Pandas](ws02c_pandas.ipynb)"
   ]
  }
 ],
 "metadata": {
  "kernelspec": {
   "display_name": "Python 2",
   "language": "python",
   "name": "python2"
  },
  "language_info": {
   "codemirror_mode": {
    "name": "ipython",
    "version": 2
   },
   "file_extension": ".py",
   "mimetype": "text/x-python",
   "name": "python",
   "nbconvert_exporter": "python",
   "pygments_lexer": "ipython2",
   "version": "2.7.11"
  }
 },
 "nbformat": 4,
 "nbformat_minor": 0
}
