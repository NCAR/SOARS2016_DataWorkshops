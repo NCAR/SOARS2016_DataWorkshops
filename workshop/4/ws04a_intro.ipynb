{
 "cells": [
  {
   "cell_type": "markdown",
   "metadata": {
    "collapsed": true
   },
   "source": [
    "# WORKSHOP 4\n",
    "\n",
    "> I have learned throughout my life as a composer chiefly through my mistakes and pursuits of false assumptions, not by my exposure to founts of wisdom and knowledge. ~ Igor Stravinsky (1882 - 1971)\n",
    "\n",
    "## Goals\n",
    "* deeper inquiry into the mosquito sub-sample\n",
    "* exploratory data analysis and hypothesis driven data inquiry\n",
    "* an introduction to [Folium](https://github.com/python-visualization/folium)\n",
    "* creating data-rich interactive maps with Folium\n",
    "\n",
    "## Tools\n",
    "In this workshop we're going to do a hands on dive into the mosquito data.  We're going to primarily continue our usage of Jupyter notebooks, but we will also look further into plotting in Pandas and a mapping tool called Folium. We are also going to explore the mosquito data and start taking our first dives into what this dataset is about, and what we might learn from it in our last remaining workshop.\n",
    "\n",
    "| Tool | Purpose |\n",
    "|------|---------|\n",
    "|matplotlib|[matplotlib](http://matplotlib.org) is the de facto plotting library for graphs, plots and charts.  It integrates directly into your notebook and plots can be exported into papers, websites, etc.|\n",
    "|Folium|[Folium](https://folium.readthedocs.io/en/latest/) is a really excellent (albeit new and maturing) library for interactive map generation.  Not only is it coole, it is easy to use and get results fast.|\n",
    "\n",
    "## Folium in 30 seconds\n",
    "Folium is an excellent open source Python library that allows you to build maps in the flavor of [Leaflet.js](http://leafletjs.com/).  Within a few lines of code, you can not only display maps, but also add pins, graphics, boxes, etc.\n",
    "\n",
    "## Workshop flow\n",
    "\n",
    "* [Analyzing the mosquito trap data (Take 0)](ws04b_mosquito_analysis.ipynb)\n",
    "\n",
    "\n",
    "## Exercises\n",
    "Try them out [just for fun or extra practice](./exercises/)."
   ]
  }
 ],
 "metadata": {
  "kernelspec": {
   "display_name": "Python 2",
   "language": "python",
   "name": "python2"
  },
  "language_info": {
   "codemirror_mode": {
    "name": "ipython",
    "version": 2
   },
   "file_extension": ".py",
   "mimetype": "text/x-python",
   "name": "python",
   "nbconvert_exporter": "python",
   "pygments_lexer": "ipython2",
   "version": "2.7.11"
  }
 },
 "nbformat": 4,
 "nbformat_minor": 0
}
