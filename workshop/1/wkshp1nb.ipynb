{
 "cells": [
  {
   "cell_type": "markdown",
   "metadata": {},
   "source": [
    "# WORKSHOP 1\n",
    "\n",
    "> Start by doing what's necessary; then do what's possible; and suddenly you are doing the impossible.  ~ Francis of Assisi (1182 - 1226)\n",
    "\n",
    "## Tools\n",
    "In this workshop we're going to learn a little about the tools and language we'll repeatedly access through the summer.  First on to the tool chain we're going to work with :\n",
    "\n",
    "| Tool | Purpose |\n",
    "|------|---------|\n",
    "|Python|This is the language we'll be using this summer.  Let's make sure it is installed and ready to use.  If you went through the [installation](../README.md) tutorial, you should be good to go. |\n",
    "|PyCharm|This is our editor (one of many you could use).  It is full functioning and pretty friendly once you get the hang of its functions.  PyCharm is excellent for writing longer, more complex code in a project-like environment.  Let's see that everything is OK with the [installation of PyCharm](../README.md). |\n",
    "|Github|[Github](https://github.com) is an excellent place to share, find and contribute to open source projects of all kinds.  There are millions of repositories representing everything from scientific projects to programming langages, web servers and websites.  Watch out ... you can get lost on there! |\n",
    "|Jupyter Notebooks|We'll affectionately use NB as a shorthand for Jupyter Notebooks, but this tool is the backbone of data exploration in Python these days.  With support for so many interesting things, you'll soon find out that you can do a lot of great things and share them with others when you're done. Support for NB is OK in PyCharm, but we'll play mostly with it directly in the browser on the server that we'll invoke from within PyCharm.|\n",
    "\n"
   ]
  },
  {
   "cell_type": "markdown",
   "metadata": {},
   "source": [
    "## The Python Language\n",
    "Python is the language of choice these days for many of the data science and analytics tasks we're faced with on a day-to-day basis.  There is a basic assumption that you have had _some_ exposure to at least _one_ programming language, but if you need to brush up on some basic concepts, check out the [resources page](../resources.md) for more places to learn about Python.\n",
    "\n",
    "To get started, let's review the [Python Primer](primer_python.md) that will go over the **very basics** of the language and get your feet we in what it is all about and what it can do.\n",
    "\n"
   ]
  },
  {
   "cell_type": "markdown",
   "metadata": {},
   "source": [
    "## What Python is about ...\n",
    "First and foremost, Python is about readability.  You will soon find out that what makes Python interesting is _not_ its syntax.  Python is about expressing your ideas in the most direct way you can, and this is often counter to languages you may have worked with before.  If it looks that simple ... in Python, you must accept that truth and move on.  You will soon accept many truths of simplicity that you have been ignoring ... and you just might fall for Python as many, many other have.\n",
    "\n",
    "## Basic Data Types\n",
    "\n",
    "### Integers and Floats\n",
    "As with almost all languages, support for numbers (integers, floats and others) is basic to the operation of the language.  In Python, you'll need to know about **integers**,\n"
   ]
  },
  {
   "cell_type": "code",
   "execution_count": 6,
   "metadata": {
    "collapsed": true
   },
   "outputs": [],
   "source": [
    "# this is an integer\n",
    "silly_integer = 1\n",
    "\n",
    "another_silly_integer = 129834"
   ]
  },
  {
   "cell_type": "markdown",
   "metadata": {},
   "source": [
    "When you need a little more precision, you will want to work with **floating point** numbers.  So if you need a decimal in your number, try\n"
   ]
  },
  {
   "cell_type": "code",
   "execution_count": 11,
   "metadata": {
    "collapsed": false
   },
   "outputs": [
    {
     "name": "stdout",
     "output_type": "stream",
     "text": [
      "1.01\n",
      "1\n",
      "1.0\n"
     ]
    }
   ],
   "source": [
    "# this is a float\n",
    "silly_float = 1.01\n",
    "\n",
    "# if you need a float\n",
    "another_silly_float = 1.\n",
    "\n",
    "# and another ...\n",
    "more_interesting_float = 78.23479478099\n",
    "\n",
    "print silly_float\n",
    "print silly_integer\n",
    "print another_silly_float"
   ]
  },
  {
   "cell_type": "markdown",
   "metadata": {},
   "source": [
    "Intuitively, adding, subtracting and doing math operations work as expected :"
   ]
  },
  {
   "cell_type": "code",
   "execution_count": 13,
   "metadata": {
    "collapsed": false
   },
   "outputs": [
    {
     "name": "stdout",
     "output_type": "stream",
     "text": [
      "2.25\n",
      "0.8\n"
     ]
    }
   ],
   "source": [
    "a = 1\n",
    "b = 1.25\n",
    "c = a + b\n",
    "print c # ==> 2.25 as expected\n",
    "\n",
    "c = a / b\n",
    "print c # ==> 0.8 as expected"
   ]
  },
  {
   "cell_type": "markdown",
   "metadata": {},
   "source": [
    "### Strings\n",
    "Strings are again, another crucial type built in to almost all languages.  In Python, they work as expected:"
   ]
  },
  {
   "cell_type": "code",
   "execution_count": 15,
   "metadata": {
    "collapsed": false
   },
   "outputs": [
    {
     "name": "stdout",
     "output_type": "stream",
     "text": [
      "Bob\n",
      "Jones\n"
     ]
    }
   ],
   "source": [
    "first_name = \"Bob\"\n",
    "last_name = \"Jones\"\n",
    "\n",
    "print first_name\n",
    "print last_name"
   ]
  },
  {
   "cell_type": "markdown",
   "metadata": {},
   "source": [
    "To take two strings and concatenate them (merge 2 or more strings together end-to-end):"
   ]
  },
  {
   "cell_type": "code",
   "execution_count": 16,
   "metadata": {
    "collapsed": false
   },
   "outputs": [
    {
     "name": "stdout",
     "output_type": "stream",
     "text": [
      "BobJones\n",
      "Bob Jones\n"
     ]
    }
   ],
   "source": [
    "fullname = first_name + last_name\n",
    "print fullname # ==> \"BobJones\"\n",
    "\n",
    "fullname = first_name + \" \" + last_name\n",
    "print fullname # ==> \"Bob Jones\""
   ]
  },
  {
   "cell_type": "markdown",
   "metadata": {},
   "source": [
    "Later we will learn about some other useful operations on strings.\n",
    "\n",
    "\n",
    "## Data Structures\n",
    "As a Pythonista padwan there are three data structures you will need to know well:\n",
    "\n",
    "* tuples,\n",
    "* lists, and\n",
    "* dictionaries.\n",
    "\n",
    "### Tuples\n",
    "A tuple is a ordered \"list\" of items, but unlike a list they can't be changed (also referred to as \"immutable\").  So it's not \"really\" a list, but \"list\" gives you a point of reference."
   ]
  },
  {
   "cell_type": "code",
   "execution_count": 20,
   "metadata": {
    "collapsed": false
   },
   "outputs": [
    {
     "name": "stdout",
     "output_type": "stream",
     "text": [
      "(1, 2, 1, 4, 5)\n"
     ]
    }
   ],
   "source": [
    "# this is an empty tuple\n",
    "tpl = ()\n",
    "\n",
    "# you can add anything to your tuple; make a new one with what you want\n",
    "tpl1 = (1, 2, 1)\n",
    "\n",
    "# you can also make a new tuple from existing tuples\n",
    "tpl2 = (4, 5)\n",
    "tpl3 = tpl1 + tpl2 # ==> (1, 2, 1, 4, 5)\n",
    "\n",
    "print tpl3"
   ]
  },
  {
   "cell_type": "markdown",
   "metadata": {},
   "source": [
    "Tuples can contain whatever you'd like: numbers, strings, other objects (lists, dicts, other tuples), etc.  And you can mix and match.\n"
   ]
  },
  {
   "cell_type": "code",
   "execution_count": 25,
   "metadata": {
    "collapsed": false
   },
   "outputs": [],
   "source": [
    "# a tuple of strings\n",
    "tpl1 = (\"you\", \"are\", \"here\")\n",
    "\n",
    "tpl2 = (1, \"you\", (0, 0, 0))\n",
    "\n",
    "tpl3 = (1, [\"fred\", \"bob\"], (3, 2))"
   ]
  },
  {
   "cell_type": "markdown",
   "metadata": {},
   "source": [
    "### Lists\n",
    "Lists are fun, they are sort of like tuples, except you can do a lot more with them and you can change them (they are referred to as \"mutable\")."
   ]
  },
  {
   "cell_type": "code",
   "execution_count": 28,
   "metadata": {
    "collapsed": false
   },
   "outputs": [],
   "source": [
    "# this is an empty list\n",
    "lst = []\n",
    "\n",
    "# this is a list with a single item\n",
    "lst = [1]\n",
    "\n",
    "# this is a list with several items\n",
    "lst = [1, 2, 3, 4]\n",
    "\n",
    "# but a list can contain just about anything ... including other lists\n",
    "lst = [[1, 2, 3],[1],[4, [5, 6], 7]]"
   ]
  },
  {
   "cell_type": "markdown",
   "metadata": {},
   "source": [
    "### Dictionaries\n",
    "\n",
    "Dictionaries are even more fun - they contain a _key_ and a _value_ ... and are not unlike a _real_ dictionary except in a Python dictionary you can only have a single unique key, thus _unlike_ a real dictionary, the word \"book\" will only have a single entry.  Furthermore, the dictionary value can be nearly anything - another dictionary, list, etc.\n",
    "\n",
    "\n",
    "#### Initialization\n",
    "There are a variety of ways to make dictionaries:\n"
   ]
  },
  {
   "cell_type": "code",
   "execution_count": 32,
   "metadata": {
    "collapsed": false
   },
   "outputs": [
    {
     "name": "stdout",
     "output_type": "stream",
     "text": [
      "{'a': 1, 'c': {'book': 0}, 'b': [1, 2], 'd': {'cat': 'dog'}}\n"
     ]
    }
   ],
   "source": [
    "# this is an empty dictionary\n",
    "dct = {}\n",
    "\n",
    "# this is a dictionary with a single key as a string and an integer value\n",
    "dct = {'book': 0}\n",
    "\n",
    "# here is another way to make a dictionary with a list of tuples\n",
    "dct = dict([('book', 0)])\n",
    "\n",
    "# and a really nice way to make a dictionary\n",
    "dct = dict(a=1, b=[1, 2], c={'book': 0}, d={'cat': 'dog'})\n",
    "\n",
    "print dct"
   ]
  },
  {
   "cell_type": "markdown",
   "metadata": {},
   "source": [
    "#### Data access\n",
    "Accessing a dictionary is easy with just referencing the key whose value you'd like to access:\n"
   ]
  },
  {
   "cell_type": "code",
   "execution_count": 34,
   "metadata": {
    "collapsed": false
   },
   "outputs": [
    {
     "name": "stdout",
     "output_type": "stream",
     "text": [
      "{'cat': 'dog'}\n",
      "1\n",
      "1\n",
      "None\n"
     ]
    }
   ],
   "source": [
    "dct = dict(a=1, b=[1, 2], c={'book': 0}, d={'cat': 'dog'})\n",
    "\n",
    "print dct['d'] # ==> {'cat': 'dog'}\n",
    "print dct['a'] # ==> 1\n",
    "\n",
    "# there is also the get() method\n",
    "print dct.get('a') # ==> 1\n",
    "print dct.get('p') # ==> None"
   ]
  },
  {
   "cell_type": "markdown",
   "metadata": {},
   "source": [
    "**A note about get() method:**  One thing I wish I had used more often in the beginning was `dict.get()`.  When accessing a value by it's key, if you try to access a key that does not exist, you will get a `KeyError` ... this is actually a good thing in some contexts, but in others, you may just want to know that the value exists without catching and handling the exception.  `get()` does this beautifully and additionally, if you want a value to be returned other than the default of `None`, then you can set the second parameter to just that value:"
   ]
  },
  {
   "cell_type": "code",
   "execution_count": 36,
   "metadata": {
    "collapsed": false
   },
   "outputs": [
    {
     "ename": "KeyError",
     "evalue": "'p'",
     "output_type": "error",
     "traceback": [
      "\u001b[1;31m---------------------------------------------------------------------------\u001b[0m",
      "\u001b[1;31mKeyError\u001b[0m                                  Traceback (most recent call last)",
      "\u001b[1;32m<ipython-input-36-e31f2ec08055>\u001b[0m in \u001b[0;36m<module>\u001b[1;34m()\u001b[0m\n\u001b[1;32m----> 1\u001b[1;33m \u001b[0mdct\u001b[0m\u001b[1;33m[\u001b[0m\u001b[1;34m'p'\u001b[0m\u001b[1;33m]\u001b[0m \u001b[1;31m# ==> KeyError: 'p'\u001b[0m\u001b[1;33m\u001b[0m\u001b[0m\n\u001b[0m",
      "\u001b[1;31mKeyError\u001b[0m: 'p'"
     ]
    }
   ],
   "source": [
    "dct['p'] # ==> KeyError: 'p'"
   ]
  },
  {
   "cell_type": "code",
   "execution_count": 37,
   "metadata": {
    "collapsed": false
   },
   "outputs": [
    {
     "data": {
      "text/plain": [
       "-1"
      ]
     },
     "execution_count": 37,
     "metadata": {},
     "output_type": "execute_result"
    }
   ],
   "source": [
    "dct.get('p', -1) # ==> -1 instead of the default None"
   ]
  },
  {
   "cell_type": "markdown",
   "metadata": {},
   "source": [
    "## Operating over data structures\n",
    "I am assuming here (for now), the you have a basic understanding looping over things (at least abstractly).  Let's say, for example, you are interested in adding the numbers in a list of numbers.\n",
    "\n",
    "Let's try:"
   ]
  },
  {
   "cell_type": "code",
   "execution_count": 38,
   "metadata": {
    "collapsed": true
   },
   "outputs": [],
   "source": [
    "# starting with a tuple of numbers\n",
    "ton = (1, 2, 3, 4, 5)"
   ]
  },
  {
   "cell_type": "markdown",
   "metadata": {},
   "source": [
    "What you want to do now is just print the numbers in that list:"
   ]
  },
  {
   "cell_type": "code",
   "execution_count": 40,
   "metadata": {
    "collapsed": false
   },
   "outputs": [
    {
     "name": "stdout",
     "output_type": "stream",
     "text": [
      "1\n",
      "2\n",
      "3\n",
      "4\n",
      "5\n"
     ]
    }
   ],
   "source": [
    "for number in ton:\n",
    "    print number"
   ]
  },
  {
   "cell_type": "markdown",
   "metadata": {},
   "source": [
    "How about a list:"
   ]
  },
  {
   "cell_type": "code",
   "execution_count": 41,
   "metadata": {
    "collapsed": false
   },
   "outputs": [
    {
     "name": "stdout",
     "output_type": "stream",
     "text": [
      "1\n",
      "2\n",
      "3\n",
      "4\n",
      "5\n"
     ]
    }
   ],
   "source": [
    "lon = [1, 2, 3, 4, 5]\n",
    "for number in lon:\n",
    "    print number"
   ]
  },
  {
   "cell_type": "markdown",
   "metadata": {},
   "source": [
    "dictionaries ... anyone?"
   ]
  },
  {
   "cell_type": "code",
   "execution_count": 50,
   "metadata": {
    "collapsed": false
   },
   "outputs": [
    {
     "name": "stdout",
     "output_type": "stream",
     "text": [
      "a\n",
      "c\n",
      "b\n"
     ]
    }
   ],
   "source": [
    "dct = {'a': 1, 'b': 2, 'c': 3}\n",
    "for d in dct:\n",
    "    print d"
   ]
  },
  {
   "cell_type": "markdown",
   "metadata": {},
   "source": [
    "These are the **keys**, but what about the **values**?\n",
    "\n",
    "When using a simple loop over the whole dictionary, you can use the dictionary method `iteritems()` and build the loop like this instead:"
   ]
  },
  {
   "cell_type": "code",
   "execution_count": 54,
   "metadata": {
    "collapsed": false
   },
   "outputs": [
    {
     "name": "stdout",
     "output_type": "stream",
     "text": [
      "a 1\n",
      "c 3\n",
      "b 2\n",
      "\n",
      "Printing the square of the value in the dictionary key:\n",
      "a 1\n",
      "c 9\n",
      "b 4\n"
     ]
    }
   ],
   "source": [
    "for d, val in dct.iteritems():\n",
    "    print d, val\n",
    "    \n",
    "print \n",
    "print \"Printing the square of the value in the dictionary key:\"\n",
    "for d, val in dct.iteritems():\n",
    "    print d, val**2"
   ]
  },
  {
   "cell_type": "markdown",
   "metadata": {},
   "source": [
    "### Python String Basics\n",
    "\n",
    "A _string_ in Python is defined much like that of most other languages."
   ]
  },
  {
   "cell_type": "code",
   "execution_count": 57,
   "metadata": {
    "collapsed": true
   },
   "outputs": [],
   "source": [
    "s = \"This is a string\"\n",
    "\n",
    "another_string = \"And this is another string\""
   ]
  },
  {
   "cell_type": "markdown",
   "metadata": {},
   "source": [
    "### Concatening strings\n",
    "\n",
    "Concatening strings is very easy - just use `+` between the two (or more) strings you want to concatenate.  The result is something like this:"
   ]
  },
  {
   "cell_type": "code",
   "execution_count": 58,
   "metadata": {
    "collapsed": false
   },
   "outputs": [
    {
     "name": "stdout",
     "output_type": "stream",
     "text": [
      "This is a string!\n",
      "This is a stringThis is a string\n",
      "This is a stringAnd this is another string\n",
      "This is a string! And this is another string.\n"
     ]
    }
   ],
   "source": [
    "print s + '!'\n",
    "print s + s\n",
    "print s + another_string\n",
    "print s + '! ' + another_string + \".\""
   ]
  },
  {
   "cell_type": "markdown",
   "metadata": {},
   "source": [
    "### Accessing string characters\n",
    "\n",
    "Strings can be accessed much like lists in the sense that you can obtain a single character by accessing the zero-based index of that character:"
   ]
  },
  {
   "cell_type": "code",
   "execution_count": 59,
   "metadata": {
    "collapsed": false
   },
   "outputs": [
    {
     "name": "stdout",
     "output_type": "stream",
     "text": [
      "T\n",
      "h\n",
      "i\n"
     ]
    }
   ],
   "source": [
    "print s[0]\n",
    "print s[1]\n",
    "print s[2]"
   ]
  },
  {
   "cell_type": "markdown",
   "metadata": {},
   "source": [
    "### Useful string operations\n",
    "Sometimes you might want to get the **length of a string**.  Simply use `len` to do that.\n",
    "\n",
    "Other times you might want to get a subset of the string (substring), say the first few characters.  Try using the `[start_index:end_index]` syntax to do that.  A nice feature of Python is you can use negative indices to work from the _end_ of the string.  Also if you leave the `start_index` empty, it is assumed to be the first character (0th index) and similarly, if you leave the `end_index` empty, it is assumed to be the index of the last character (`len(s) - 1`).\n",
    "\n",
    "Let's see some examples:"
   ]
  },
  {
   "cell_type": "code",
   "execution_count": 60,
   "metadata": {
    "collapsed": false
   },
   "outputs": [
    {
     "name": "stdout",
     "output_type": "stream",
     "text": [
      "16\n",
      "26\n",
      "42\n",
      "This\n",
      "ring\n",
      "This is a \n",
      "a strin\n"
     ]
    }
   ],
   "source": [
    "# length\n",
    "print len(s)\n",
    "print len(another_string)\n",
    "print len(s + another_string)\n",
    "\n",
    "# substring selection\n",
    "print s[:4]\n",
    "print s[-4:]\n",
    "\n",
    "print s[0:10]\n",
    "print s[-8:-1]"
   ]
  },
  {
   "cell_type": "markdown",
   "metadata": {},
   "source": [
    "### Iterating over a string\n",
    "Iterating a string operates much like that of a list: `for` is your tool."
   ]
  },
  {
   "cell_type": "code",
   "execution_count": 61,
   "metadata": {
    "collapsed": false
   },
   "outputs": [
    {
     "name": "stdout",
     "output_type": "stream",
     "text": [
      "T\n",
      "h\n",
      "i\n",
      "s\n",
      " \n",
      "i\n",
      "s\n",
      " \n",
      "a\n",
      " \n",
      "s\n",
      "t\n",
      "r\n",
      "i\n",
      "n\n",
      "g\n"
     ]
    }
   ],
   "source": [
    "for c in s:\n",
    "    print c"
   ]
  },
  {
   "cell_type": "markdown",
   "metadata": {},
   "source": [
    "Let's just print the `s` characters."
   ]
  },
  {
   "cell_type": "code",
   "execution_count": 62,
   "metadata": {
    "collapsed": false
   },
   "outputs": [
    {
     "name": "stdout",
     "output_type": "stream",
     "text": [
      "s\n",
      "s\n",
      "s\n"
     ]
    }
   ],
   "source": [
    "for c in s:\n",
    "    if c == 's':\n",
    "        print c"
   ]
  },
  {
   "cell_type": "markdown",
   "metadata": {},
   "source": [
    "### Finding substrings: The easy way\n",
    "\n",
    "You won't have to juggle writing your own substring searching functions in Python if you use this one last time saver is for finding a substring can be performed with `in`:"
   ]
  },
  {
   "cell_type": "code",
   "execution_count": 63,
   "metadata": {
    "collapsed": false
   },
   "outputs": [
    {
     "name": "stdout",
     "output_type": "stream",
     "text": [
      "False\n",
      "True\n",
      "True\n",
      "True\n",
      "True\n",
      "True\n"
     ]
    }
   ],
   "source": [
    "print 'c' in s\n",
    "print 's' in s\n",
    "print 'is' in s\n",
    "print 'is ' in s\n",
    "print 'ring' in s\n",
    "print 's is a' in s"
   ]
  },
  {
   "cell_type": "markdown",
   "metadata": {},
   "source": [
    "You can continue to play ... and learn more about strings, but this should get you started."
   ]
  },
  {
   "cell_type": "markdown",
   "metadata": {},
   "source": [
    "## Github in 10 minutes or less\n",
    "[Github](https://www.github.com) is a system / web application / platform that provides a beautiful way to store, view, manage, share and revise code.  While the primary content on Github is _running_ software, whether that be in C, Java, HTML, Python or the many hundreds of other languages in popular use today, it can also be a place for traditional text files (data, papers) and other binary data (Word/Excel documents, images, etc.)  Github's strength is in the ability for it to facilitate software collaboration, and today it is the premier place on the web for large scale open-source, collaborative software projects.  Though open and public projects are Github's forte, it provides the ability for you to host private projects and allows you to make the decision later whether it is appropriate to make such projects public or not.\n",
    "\n",
    "### Revision Control in 60 seconds\n",
    "Github is built on top of what is called **git**, which is a __revision control system__.  The core concept behind such systems is that they manage your text-based code files and allow you to keep track of the changes (revisions) to those files.  In a system like **git** you can invite others to work on your code as well, which can allow more than one person to make contributions to the code.  What is even more useful is that such changes can be tracked across a project so that those contributions and changes can be seen, reviewed, modified and otherwise managed.  Thus, when someone (even you) makes a change to a file (or files) and makes those changes known to the revision control system, others with access to those files can not only see those changes, but integrate them into their own.\n",
    "\n",
    "Git provides a great deal of functionality which might appear to be complex and overwhelming.  Most of the functionality you will need in the basic daily use case is very narrow, so don't be discouraged by the depth and complexity of git's documentation.\n",
    "\n",
    "### What's Git all about?\n",
    "In revision control systems you code is typically stored in a **repository** and that repository most often lives and is managed on a remote server.  This is done for a variety of reasons, one if which is to provide others access to your code.  Git has the advantage of such code and its revisions being controlled locally and only when you're ready can those changes be put onto the remote server.  The relationship between Git and Github is that Github provides a nice visual shell over Git and also serves as the remote git server, so you don't have to think about it when you want to share your code with others (or have a remote copy of it).\n",
    "\n",
    "You will always need to install git on your local system, and don't ever _have to have_ a remote server, but if that is the case, the code in such a local project will never be seen by, or syncronized with (backed up on) a remote server, thus making it difficult to (though not technically impossible) share with others in the general case.\n",
    "\n",
    "### Projects <=> Repositorities\n",
    "In git your code lives in a repository.  This is simply the location / directory for your files and it lives (initially) local to your file system.  You can create a repository anywhere on your file system, but it is often a good practice to keep git repositories in a common location when it makes sense to do so.  Furthermore  there is no limit to the number of repositories or the number of files under the control of a repository.\n",
    "\n",
    "You can consider a repository as a project containing a single focus of interest.  For example, you might think if your repository as containing a single complete software application you're building.  Similarly, you might think of it as a place for all the files of a single course over a semester, or a single topic of interest.  Your concept of \"project\" isn't really restricted, though there are some best practices.\n",
    "\n",
    "In Github, as in git, the anchor of a project is the repository."
   ]
  },
  {
   "cell_type": "code",
   "execution_count": null,
   "metadata": {
    "collapsed": true
   },
   "outputs": [],
   "source": []
  },
  {
   "cell_type": "markdown",
   "metadata": {},
   "source": [
    "## A Primer on Text-based Data Files\n",
    "\n",
    "For starters, many of the files you'll be working with through the summer (and beyond) are in some text format or another.  The most popular (generally) being CSV or TSV (comma separated, tab separated, respectively).  Netcdf is very common binary format used in the Geosciences, and we'll touch in on them if we have time.  Python makes doing basic operations on text files very straightforward, hence its use as a language of choice text processing language.\n",
    "\n",
    "We'll get started with a review and shallow dive [into processing text files in Python](primer_files.md)."
   ]
  },
  {
   "cell_type": "code",
   "execution_count": null,
   "metadata": {
    "collapsed": true
   },
   "outputs": [],
   "source": []
  }
 ],
 "metadata": {
  "kernelspec": {
   "display_name": "Python 2",
   "language": "python",
   "name": "python2"
  },
  "language_info": {
   "codemirror_mode": {
    "name": "ipython",
    "version": 2
   },
   "file_extension": ".py",
   "mimetype": "text/x-python",
   "name": "python",
   "nbconvert_exporter": "python",
   "pygments_lexer": "ipython2",
   "version": "2.7.11"
  }
 },
 "nbformat": 4,
 "nbformat_minor": 0
}
