{
 "cells": [
  {
   "cell_type": "markdown",
   "metadata": {},
   "source": [
    "# WORKSHOP 1\n",
    "\n",
    "> Start by doing what's necessary; then do what's possible; and suddenly you are doing the impossible.  ~ Francis of Assisi (1182 - 1226)\n",
    "\n",
    "## Tools\n",
    "In this workshop we're going to learn a little about the tools and language we'll repeatedly access through the summer.  First on to the tool chain we're going to work with :\n",
    "\n",
    "| Tool | Purpose |\n",
    "|------|---------|\n",
    "|Python|This is the language we'll be using this summer.  Let's make sure it is installed and ready to use.  If you went through the [installation](../installation_note.ipynb) tutorial, you should be good to go. |\n",
    "|PyCharm|This is our editor (one of many you could use).  It is full functioning and pretty friendly once you get the hang of its functions.  PyCharm is excellent for writing longer, more complex code in a project-like environment.  Let's see that everything is OK with the [installation of PyCharm](../installation_note.ipynb). |\n",
    "|Github|[Github](https://github.com) is an excellent place to share, find and contribute to open source projects of all kinds.  There are millions of repositories representing everything from scientific projects to programming langages, web servers and websites.  Watch out ... you can get lost on there! |\n",
    "|Jupyter Notebooks|We'll affectionately use NB as a shorthand for Jupyter Notebooks, but this tool is the backbone of data exploration in Python these days.  With support for so many interesting things, you'll soon find out that you can do a lot of great things and share them with others when you're done. Support for NB is OK in PyCharm, but we'll play mostly with it directly in the browser on the server that we'll invoke from within PyCharm.|\n",
    "\n",
    "## Workshop Flow\n",
    "\n",
    "* [A quick introduction to Python](ws01b_intro.ipynb)\n",
    "* [Python string basics](ws01c_strings.ipynb)\n",
    "* [A quick tour of working with files](ws01e_files.ipynb)\n",
    "* [Introduction to Github](ws01d_github.ipynb)"
   ]
  }
 ],
 "metadata": {
  "anaconda-cloud": {},
  "kernelspec": {
   "display_name": "Python [default]",
   "language": "python",
   "name": "python2"
  },
  "language_info": {
   "codemirror_mode": {
    "name": "ipython",
    "version": 2
   },
   "file_extension": ".py",
   "mimetype": "text/x-python",
   "name": "python",
   "nbconvert_exporter": "python",
   "pygments_lexer": "ipython2",
   "version": "2.7.12"
  },
  "toc": {
   "nav_menu": {
    "height": "67px",
    "width": "252px"
   },
   "navigate_menu": true,
   "number_sections": false,
   "sideBar": true,
   "threshold": 4,
   "toc_cell": false,
   "toc_section_display": "block",
   "toc_window_display": false
  }
 },
 "nbformat": 4,
 "nbformat_minor": 0
}
