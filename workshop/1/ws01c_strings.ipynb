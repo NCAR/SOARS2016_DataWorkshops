{
 "cells": [
  {
   "cell_type": "markdown",
   "metadata": {},
   "source": [
    "# WORKSHOP 1 / String Basics\n",
    "\n",
    "\n",
    "**WORKSHOP NAVIGATION**\n",
    "\n",
    "---\n",
    "\n",
    "* [A quick introduction to Python](ws01b_intro.ipynb)\n",
    "* **Python string basics**\n",
    "* [A quick tour of working with files](ws01e_files.ipynb)\n",
    "* [Introduction to Github](ws01d_github.ipynb)\n",
    "\n",
    "---\n",
    "**CONTENTS OF THIS FILE**\n",
    "\n",
    " <p><div class=\"lev1 toc-item\"><a href=\"#WORKSHOP-1-/-String-Basics\" data-toc-modified-id=\"WORKSHOP-1-/-String-Basics-1\"><span class=\"toc-item-num\">1&nbsp;&nbsp;</span>WORKSHOP 1 / String Basics</a></div><div class=\"lev1 toc-item\"><a href=\"#Python-String-Basics\" data-toc-modified-id=\"Python-String-Basics-2\"><span class=\"toc-item-num\">2&nbsp;&nbsp;</span>Python String Basics</a></div><div class=\"lev2 toc-item\"><a href=\"#Concatening-strings\" data-toc-modified-id=\"Concatening-strings-21\"><span class=\"toc-item-num\">2.1&nbsp;&nbsp;</span>Concatening strings</a></div><div class=\"lev2 toc-item\"><a href=\"#Accessing-string-characters\" data-toc-modified-id=\"Accessing-string-characters-22\"><span class=\"toc-item-num\">2.2&nbsp;&nbsp;</span>Accessing string characters</a></div><div class=\"lev2 toc-item\"><a href=\"#Useful-string-operations\" data-toc-modified-id=\"Useful-string-operations-23\"><span class=\"toc-item-num\">2.3&nbsp;&nbsp;</span>Useful string operations</a></div><div class=\"lev2 toc-item\"><a href=\"#Iterating-over-a-string\" data-toc-modified-id=\"Iterating-over-a-string-24\"><span class=\"toc-item-num\">2.4&nbsp;&nbsp;</span>Iterating over a string</a></div><div class=\"lev2 toc-item\"><a href=\"#Finding-substrings:-The-easy-way\" data-toc-modified-id=\"Finding-substrings:-The-easy-way-25\"><span class=\"toc-item-num\">2.5&nbsp;&nbsp;</span>Finding substrings: The easy way</a></div>\n",
    "\n",
    "---"
   ]
  },
  {
   "cell_type": "markdown",
   "metadata": {},
   "source": [
    "# Python String Basics\n",
    "\n",
    "A _string_ in Python is defined much like that of most other languages."
   ]
  },
  {
   "cell_type": "code",
   "execution_count": 2,
   "metadata": {
    "collapsed": true
   },
   "outputs": [],
   "source": [
    "s = \"This is a string\"\n",
    "\n",
    "another_string = \"And this is another string\""
   ]
  },
  {
   "cell_type": "markdown",
   "metadata": {},
   "source": [
    "## Concatening strings\n",
    "\n",
    "Concatening strings is very easy - just use `+` between the two (or more) strings you want to concatenate.  The result is something like this:"
   ]
  },
  {
   "cell_type": "code",
   "execution_count": 3,
   "metadata": {
    "collapsed": false
   },
   "outputs": [
    {
     "name": "stdout",
     "output_type": "stream",
     "text": [
      "This is a string!\n",
      "This is a stringThis is a string\n",
      "This is a stringAnd this is another string\n",
      "This is a string! And this is another string.\n"
     ]
    }
   ],
   "source": [
    "print s + '!'\n",
    "print s + s\n",
    "print s + another_string\n",
    "print s + '! ' + another_string + \".\""
   ]
  },
  {
   "cell_type": "markdown",
   "metadata": {},
   "source": [
    "## Accessing string characters\n",
    "\n",
    "Strings can be accessed much like lists in the sense that you can obtain a single character by accessing the zero-based index of that character:"
   ]
  },
  {
   "cell_type": "code",
   "execution_count": 4,
   "metadata": {
    "collapsed": false
   },
   "outputs": [
    {
     "name": "stdout",
     "output_type": "stream",
     "text": [
      "T\n",
      "h\n",
      "i\n"
     ]
    }
   ],
   "source": [
    "print s[0]\n",
    "print s[1]\n",
    "print s[2]"
   ]
  },
  {
   "cell_type": "markdown",
   "metadata": {},
   "source": [
    "## Useful string operations\n",
    "Sometimes you might want to get the **length of a string**.  Simply use `len` to do that.\n",
    "\n",
    "Other times you might want to get a subset of the string (substring), say the first few characters.  Try using the `[start_index:end_index]` syntax to do that.  A nice feature of Python is you can use negative indices to work from the _end_ of the string.  Also if you leave the `start_index` empty, it is assumed to be the first character (0th index) and similarly, if you leave the `end_index` empty, it is assumed to be the index of the last character (`len(s) - 1`).\n",
    "\n",
    "Let's see some examples:"
   ]
  },
  {
   "cell_type": "code",
   "execution_count": 60,
   "metadata": {
    "collapsed": false
   },
   "outputs": [
    {
     "name": "stdout",
     "output_type": "stream",
     "text": [
      "16\n",
      "26\n",
      "42\n",
      "This\n",
      "ring\n",
      "This is a \n",
      "a strin\n"
     ]
    }
   ],
   "source": [
    "# length\n",
    "print len(s)\n",
    "print len(another_string)\n",
    "print len(s + another_string)\n",
    "\n",
    "# substring selection\n",
    "print s[:4]\n",
    "print s[-4:]\n",
    "\n",
    "print s[0:10]\n",
    "print s[-8:-1]"
   ]
  },
  {
   "cell_type": "markdown",
   "metadata": {},
   "source": [
    "## Iterating over a string\n",
    "Iterating a string operates much like that of a list: `for` is your tool."
   ]
  },
  {
   "cell_type": "code",
   "execution_count": 61,
   "metadata": {
    "collapsed": false
   },
   "outputs": [
    {
     "name": "stdout",
     "output_type": "stream",
     "text": [
      "T\n",
      "h\n",
      "i\n",
      "s\n",
      " \n",
      "i\n",
      "s\n",
      " \n",
      "a\n",
      " \n",
      "s\n",
      "t\n",
      "r\n",
      "i\n",
      "n\n",
      "g\n"
     ]
    }
   ],
   "source": [
    "for c in s:\n",
    "    print c"
   ]
  },
  {
   "cell_type": "markdown",
   "metadata": {},
   "source": [
    "Let's just print the `s` characters."
   ]
  },
  {
   "cell_type": "code",
   "execution_count": 62,
   "metadata": {
    "collapsed": false
   },
   "outputs": [
    {
     "name": "stdout",
     "output_type": "stream",
     "text": [
      "s\n",
      "s\n",
      "s\n"
     ]
    }
   ],
   "source": [
    "for c in s:\n",
    "    if c == 's':\n",
    "        print c"
   ]
  },
  {
   "cell_type": "markdown",
   "metadata": {},
   "source": [
    "## Finding substrings: The easy way\n",
    "\n",
    "You won't have to juggle writing your own substring searching functions in Python if you use this one last time saver. A substring search can be performed with `in` -- of course this just let's you know _whether_ such substring exists, not where or how many:"
   ]
  },
  {
   "cell_type": "code",
   "execution_count": 63,
   "metadata": {
    "collapsed": false
   },
   "outputs": [
    {
     "name": "stdout",
     "output_type": "stream",
     "text": [
      "False\n",
      "True\n",
      "True\n",
      "True\n",
      "True\n",
      "True\n"
     ]
    }
   ],
   "source": [
    "print 'c' in s\n",
    "print 's' in s\n",
    "print 'is' in s\n",
    "print 'is ' in s\n",
    "print 'ring' in s\n",
    "print 's is a' in s"
   ]
  },
  {
   "cell_type": "markdown",
   "metadata": {},
   "source": [
    "You can continue to play ... and [learn more about strings](), but this should get you started."
   ]
  }
 ],
 "metadata": {
  "anaconda-cloud": {},
  "kernelspec": {
   "display_name": "Python [default]",
   "language": "python",
   "name": "python2"
  },
  "language_info": {
   "codemirror_mode": {
    "name": "ipython",
    "version": 2
   },
   "file_extension": ".py",
   "mimetype": "text/x-python",
   "name": "python",
   "nbconvert_exporter": "python",
   "pygments_lexer": "ipython2",
   "version": "2.7.12"
  },
  "toc": {
   "nav_menu": {
    "height": "141px",
    "width": "252px"
   },
   "navigate_menu": true,
   "number_sections": false,
   "sideBar": true,
   "threshold": 4,
   "toc_cell": false,
   "toc_section_display": "block",
   "toc_window_display": true
  }
 },
 "nbformat": 4,
 "nbformat_minor": 0
}
