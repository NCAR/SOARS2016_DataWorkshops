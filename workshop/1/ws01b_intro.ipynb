{
 "cells": [
  {
   "cell_type": "markdown",
   "metadata": {},
   "source": [
    "# WORKSHOP 1 / Python: A Quick Introduction\n",
    "\n",
    "**WORKSHOP NAVIGATION**\n",
    "\n",
    "---\n",
    "* **A quick introduction to Python**\n",
    "* [Python string basics](ws01c_strings.ipynb)\n",
    "* [A quick tour of working with files](ws01e_files.ipynb)\n",
    "* [Introduction to Github](ws01d_github.ipynb)\n",
    "\n",
    "---\n",
    "**CONTENTS OF THIS FILE**\n",
    " <p><div class=\"lev1 toc-item\"><a href=\"#WORKSHOP-1-/-Python:-A-Quick-Introduction\" data-toc-modified-id=\"WORKSHOP-1-/-Python:-A-Quick-Introduction-1\"><span class=\"toc-item-num\">1&nbsp;&nbsp;</span>WORKSHOP 1 / Python: A Quick Introduction</a></div><div class=\"lev2 toc-item\"><a href=\"#The-Python-Language\" data-toc-modified-id=\"The-Python-Language-11\"><span class=\"toc-item-num\">1.1&nbsp;&nbsp;</span>The Python Language</a></div><div class=\"lev2 toc-item\"><a href=\"#What-Python-is-about-...\" data-toc-modified-id=\"What-Python-is-about-...-12\"><span class=\"toc-item-num\">1.2&nbsp;&nbsp;</span>What Python is about ...</a></div><div class=\"lev2 toc-item\"><a href=\"#Basic-Data-Types\" data-toc-modified-id=\"Basic-Data-Types-13\"><span class=\"toc-item-num\">1.3&nbsp;&nbsp;</span>Basic Data Types</a></div><div class=\"lev3 toc-item\"><a href=\"#Integers-and-Floats\" data-toc-modified-id=\"Integers-and-Floats-131\"><span class=\"toc-item-num\">1.3.1&nbsp;&nbsp;</span>Integers and Floats</a></div><div class=\"lev3 toc-item\"><a href=\"#Strings\" data-toc-modified-id=\"Strings-132\"><span class=\"toc-item-num\">1.3.2&nbsp;&nbsp;</span>Strings</a></div><div class=\"lev2 toc-item\"><a href=\"#Data-Structures\" data-toc-modified-id=\"Data-Structures-14\"><span class=\"toc-item-num\">1.4&nbsp;&nbsp;</span>Data Structures</a></div><div class=\"lev3 toc-item\"><a href=\"#Tuples\" data-toc-modified-id=\"Tuples-141\"><span class=\"toc-item-num\">1.4.1&nbsp;&nbsp;</span>Tuples</a></div><div class=\"lev3 toc-item\"><a href=\"#Lists\" data-toc-modified-id=\"Lists-142\"><span class=\"toc-item-num\">1.4.2&nbsp;&nbsp;</span>Lists</a></div><div class=\"lev3 toc-item\"><a href=\"#Dictionaries\" data-toc-modified-id=\"Dictionaries-143\"><span class=\"toc-item-num\">1.4.3&nbsp;&nbsp;</span>Dictionaries</a></div><div class=\"lev4 toc-item\"><a href=\"#Initialization\" data-toc-modified-id=\"Initialization-1431\"><span class=\"toc-item-num\">1.4.3.1&nbsp;&nbsp;</span>Initialization</a></div><div class=\"lev4 toc-item\"><a href=\"#Data-access\" data-toc-modified-id=\"Data-access-1432\"><span class=\"toc-item-num\">1.4.3.2&nbsp;&nbsp;</span>Data access</a></div><div class=\"lev2 toc-item\"><a href=\"#Operating-over-data-structures\" data-toc-modified-id=\"Operating-over-data-structures-15\"><span class=\"toc-item-num\">1.5&nbsp;&nbsp;</span>Operating over data structures</a></div>\n",
    " \n",
    "---"
   ]
  },
  {
   "cell_type": "markdown",
   "metadata": {},
   "source": [
    "## The Python Language\n",
    "Python is one of the languages of choice these days for many of the data science and analytics tasks we're faced with on a day-to-day basis.  There is a basic assumption that you have had _some_ exposure to at least _one_ programming language, but if you need to brush up on some basic concepts, check out the [resources page](../resources) for more places to learn about Python.\n",
    "\n",
    "To get started, let's review Python Primer and will go over the **very basics** of the language and get your feet we in what it is all about and what it can do."
   ]
  },
  {
   "cell_type": "markdown",
   "metadata": {},
   "source": [
    "## What Python is about ...\n",
    "First and foremost, Python is about readability.  You will soon find out that what makes Python interesting is _not_ its syntax.  Python is about expressing your ideas in the most direct way you can, and this is often counter to languages you may have worked with before.  If it looks that simple ... in Python, you must accept that truth and move on.  You will soon accept many truths of simplicity that you have been ignoring ... and you just might fall for Python as many, many other have.\n",
    "\n",
    "## Basic Data Types\n",
    "\n",
    "### Integers and Floats\n",
    "As with almost all languages, support for numbers (integers, floats and others) is basic to the operation of the language.  In Python, you'll need to know about **integers**,\n"
   ]
  },
  {
   "cell_type": "code",
   "execution_count": 6,
   "metadata": {
    "collapsed": true
   },
   "outputs": [],
   "source": [
    "# this is an integer\n",
    "silly_integer = 1\n",
    "\n",
    "another_silly_integer = 129834"
   ]
  },
  {
   "cell_type": "markdown",
   "metadata": {},
   "source": [
    "When you need a little more precision, you will want to work with **floating point** numbers.  So if you need a decimal in your number, try\n"
   ]
  },
  {
   "cell_type": "code",
   "execution_count": 11,
   "metadata": {
    "collapsed": false
   },
   "outputs": [
    {
     "name": "stdout",
     "output_type": "stream",
     "text": [
      "1.01\n",
      "1\n",
      "1.0\n"
     ]
    }
   ],
   "source": [
    "# this is a float\n",
    "silly_float = 1.01\n",
    "\n",
    "# if you need a float\n",
    "another_silly_float = 1.\n",
    "\n",
    "# and another ...\n",
    "more_interesting_float = 78.23479478099\n",
    "\n",
    "print silly_float\n",
    "print silly_integer\n",
    "print another_silly_float"
   ]
  },
  {
   "cell_type": "markdown",
   "metadata": {},
   "source": [
    "Intuitively, adding, subtracting and doing math operations work as expected :"
   ]
  },
  {
   "cell_type": "code",
   "execution_count": 13,
   "metadata": {
    "collapsed": false
   },
   "outputs": [
    {
     "name": "stdout",
     "output_type": "stream",
     "text": [
      "2.25\n",
      "0.8\n"
     ]
    }
   ],
   "source": [
    "a = 1\n",
    "b = 1.25\n",
    "c = a + b\n",
    "print c # ==> 2.25 as expected\n",
    "\n",
    "c = a / b\n",
    "print c # ==> 0.8 as expected"
   ]
  },
  {
   "cell_type": "markdown",
   "metadata": {},
   "source": [
    "### Strings\n",
    "Strings are again, another crucial type built in to almost all languages.  In Python, they work as expected:"
   ]
  },
  {
   "cell_type": "code",
   "execution_count": 15,
   "metadata": {
    "collapsed": false
   },
   "outputs": [
    {
     "name": "stdout",
     "output_type": "stream",
     "text": [
      "Bob\n",
      "Jones\n"
     ]
    }
   ],
   "source": [
    "first_name = \"Bob\"\n",
    "last_name = \"Jones\"\n",
    "\n",
    "print first_name\n",
    "print last_name"
   ]
  },
  {
   "cell_type": "markdown",
   "metadata": {},
   "source": [
    "To take two strings and concatenate them (merge 2 or more strings together end-to-end):"
   ]
  },
  {
   "cell_type": "code",
   "execution_count": 16,
   "metadata": {
    "collapsed": false
   },
   "outputs": [
    {
     "name": "stdout",
     "output_type": "stream",
     "text": [
      "BobJones\n",
      "Bob Jones\n"
     ]
    }
   ],
   "source": [
    "fullname = first_name + last_name\n",
    "print fullname # ==> \"BobJones\"\n",
    "\n",
    "fullname = first_name + \" \" + last_name\n",
    "print fullname # ==> \"Bob Jones\""
   ]
  },
  {
   "cell_type": "markdown",
   "metadata": {},
   "source": [
    "Later we will learn about some other useful operations on strings.\n",
    "\n",
    "\n",
    "## Data Structures\n",
    "As a Pythonista padwan there are three data structures you will need to know well:\n",
    "\n",
    "* tuples,\n",
    "* lists, and\n",
    "* dictionaries.\n",
    "\n",
    "### Tuples\n",
    "A tuple is a ordered \"list\" of items, but unlike a list they can't be changed (also referred to as \"immutable\").  So it's not \"really\" a list, but \"list\" gives you a point of reference."
   ]
  },
  {
   "cell_type": "code",
   "execution_count": 20,
   "metadata": {
    "collapsed": false
   },
   "outputs": [
    {
     "name": "stdout",
     "output_type": "stream",
     "text": [
      "(1, 2, 1, 4, 5)\n"
     ]
    }
   ],
   "source": [
    "# this is an empty tuple\n",
    "tpl = ()\n",
    "\n",
    "# you can add anything to your tuple; make a new one with what you want\n",
    "tpl1 = (1, 2, 1)\n",
    "\n",
    "# you can also make a new tuple from existing tuples\n",
    "tpl2 = (4, 5)\n",
    "tpl3 = tpl1 + tpl2 # ==> (1, 2, 1, 4, 5)\n",
    "\n",
    "print tpl3"
   ]
  },
  {
   "cell_type": "markdown",
   "metadata": {},
   "source": [
    "Tuples can contain whatever you'd like: numbers, strings, other objects (lists, dicts, other tuples), etc.  And you can mix and match.\n"
   ]
  },
  {
   "cell_type": "code",
   "execution_count": 25,
   "metadata": {
    "collapsed": false
   },
   "outputs": [],
   "source": [
    "# a tuple of strings\n",
    "tpl1 = (\"you\", \"are\", \"here\")\n",
    "\n",
    "tpl2 = (1, \"you\", (0, 0, 0))\n",
    "\n",
    "tpl3 = (1, [\"fred\", \"bob\"], (3, 2))"
   ]
  },
  {
   "cell_type": "markdown",
   "metadata": {},
   "source": [
    "### Lists\n",
    "Lists are fun, they are sort of like tuples, except you can do a lot more with them and you can change them (they are referred to as \"mutable\")."
   ]
  },
  {
   "cell_type": "code",
   "execution_count": 28,
   "metadata": {
    "collapsed": false
   },
   "outputs": [],
   "source": [
    "# this is an empty list\n",
    "lst = []\n",
    "\n",
    "# this is a list with a single item\n",
    "lst = [1]\n",
    "\n",
    "# this is a list with several items\n",
    "lst = [1, 2, 3, 4]\n",
    "\n",
    "# but a list can contain just about anything ... including other lists\n",
    "lst = [[1, 2, 3],[1],[4, [5, 6], 7]]"
   ]
  },
  {
   "cell_type": "markdown",
   "metadata": {},
   "source": [
    "### Dictionaries\n",
    "\n",
    "Dictionaries are even more fun - they contain a _key_ and a _value_ ... and are not unlike a _real_ dictionary except in a Python dictionary you can only have a single unique key, thus _unlike_ a real dictionary, the word \"book\" will only have a single entry.  Furthermore, the dictionary value can be nearly anything - another dictionary, list, etc.\n",
    "\n",
    "\n",
    "#### Initialization\n",
    "There are a variety of ways to make dictionaries:\n"
   ]
  },
  {
   "cell_type": "code",
   "execution_count": 32,
   "metadata": {
    "collapsed": false
   },
   "outputs": [
    {
     "name": "stdout",
     "output_type": "stream",
     "text": [
      "{'a': 1, 'c': {'book': 0}, 'b': [1, 2], 'd': {'cat': 'dog'}}\n"
     ]
    }
   ],
   "source": [
    "# this is an empty dictionary\n",
    "dct = {}\n",
    "\n",
    "# this is a dictionary with a single key as a string and an integer value\n",
    "dct = {'book': 0}\n",
    "\n",
    "# here is another way to make a dictionary with a list of tuples\n",
    "dct = dict([('book', 0)])\n",
    "\n",
    "# and a really nice way to make a dictionary\n",
    "dct = dict(a=1, b=[1, 2], c={'book': 0}, d={'cat': 'dog'})\n",
    "\n",
    "print dct"
   ]
  },
  {
   "cell_type": "markdown",
   "metadata": {},
   "source": [
    "#### Data access\n",
    "Accessing a dictionary is easy with just referencing the key whose value you'd like to access:\n"
   ]
  },
  {
   "cell_type": "code",
   "execution_count": 34,
   "metadata": {
    "collapsed": false
   },
   "outputs": [
    {
     "name": "stdout",
     "output_type": "stream",
     "text": [
      "{'cat': 'dog'}\n",
      "1\n",
      "1\n",
      "None\n"
     ]
    }
   ],
   "source": [
    "dct = dict(a=1, b=[1, 2], c={'book': 0}, d={'cat': 'dog'})\n",
    "\n",
    "print dct['d'] # ==> {'cat': 'dog'}\n",
    "print dct['a'] # ==> 1\n",
    "\n",
    "# there is also the get() method\n",
    "print dct.get('a') # ==> 1\n",
    "print dct.get('p') # ==> None"
   ]
  },
  {
   "cell_type": "markdown",
   "metadata": {},
   "source": [
    "**A note about get() method:**  One thing I wish I had used more often in the beginning was `dict.get()`.  When accessing a value by it's key, if you try to access a key that does not exist, you will get a `KeyError` ... this is actually a good thing in some contexts, but in others, you may just want to know that the value exists without catching and handling the exception.  `get()` does this beautifully and additionally, if you want a value to be returned other than the default of `None`, then you can set the second parameter to just that value:"
   ]
  },
  {
   "cell_type": "code",
   "execution_count": 36,
   "metadata": {
    "collapsed": false
   },
   "outputs": [
    {
     "ename": "KeyError",
     "evalue": "'p'",
     "output_type": "error",
     "traceback": [
      "\u001b[1;31m---------------------------------------------------------------------------\u001b[0m",
      "\u001b[1;31mKeyError\u001b[0m                                  Traceback (most recent call last)",
      "\u001b[1;32m<ipython-input-36-e31f2ec08055>\u001b[0m in \u001b[0;36m<module>\u001b[1;34m()\u001b[0m\n\u001b[1;32m----> 1\u001b[1;33m \u001b[0mdct\u001b[0m\u001b[1;33m[\u001b[0m\u001b[1;34m'p'\u001b[0m\u001b[1;33m]\u001b[0m \u001b[1;31m# ==> KeyError: 'p'\u001b[0m\u001b[1;33m\u001b[0m\u001b[0m\n\u001b[0m",
      "\u001b[1;31mKeyError\u001b[0m: 'p'"
     ]
    }
   ],
   "source": [
    "dct['p'] # ==> KeyError: 'p'"
   ]
  },
  {
   "cell_type": "code",
   "execution_count": 37,
   "metadata": {
    "collapsed": false
   },
   "outputs": [
    {
     "data": {
      "text/plain": [
       "-1"
      ]
     },
     "execution_count": 37,
     "metadata": {},
     "output_type": "execute_result"
    }
   ],
   "source": [
    "dct.get('p', -1) # ==> -1 instead of the default None"
   ]
  },
  {
   "cell_type": "markdown",
   "metadata": {},
   "source": [
    "## Operating over data structures\n",
    "I am assuming here (for now), the you have a basic understanding looping over things (at least abstractly).  Let's say, for example, you are interested in adding the numbers in a list of numbers.\n",
    "\n",
    "Let's try:"
   ]
  },
  {
   "cell_type": "code",
   "execution_count": 38,
   "metadata": {
    "collapsed": true
   },
   "outputs": [],
   "source": [
    "# starting with a tuple of numbers\n",
    "ton = (1, 2, 3, 4, 5)"
   ]
  },
  {
   "cell_type": "markdown",
   "metadata": {},
   "source": [
    "What you want to do now is just print the numbers in that list:"
   ]
  },
  {
   "cell_type": "code",
   "execution_count": 40,
   "metadata": {
    "collapsed": false
   },
   "outputs": [
    {
     "name": "stdout",
     "output_type": "stream",
     "text": [
      "1\n",
      "2\n",
      "3\n",
      "4\n",
      "5\n"
     ]
    }
   ],
   "source": [
    "for number in ton:\n",
    "    print number"
   ]
  },
  {
   "cell_type": "markdown",
   "metadata": {},
   "source": [
    "How about a list:"
   ]
  },
  {
   "cell_type": "code",
   "execution_count": 41,
   "metadata": {
    "collapsed": false
   },
   "outputs": [
    {
     "name": "stdout",
     "output_type": "stream",
     "text": [
      "1\n",
      "2\n",
      "3\n",
      "4\n",
      "5\n"
     ]
    }
   ],
   "source": [
    "lon = [1, 2, 3, 4, 5]\n",
    "for number in lon:\n",
    "    print number"
   ]
  },
  {
   "cell_type": "markdown",
   "metadata": {},
   "source": [
    "dictionaries ... anyone?"
   ]
  },
  {
   "cell_type": "code",
   "execution_count": 50,
   "metadata": {
    "collapsed": false
   },
   "outputs": [
    {
     "name": "stdout",
     "output_type": "stream",
     "text": [
      "a\n",
      "c\n",
      "b\n"
     ]
    }
   ],
   "source": [
    "dct = {'a': 1, 'b': 2, 'c': 3}\n",
    "for d in dct:\n",
    "    print d"
   ]
  },
  {
   "cell_type": "markdown",
   "metadata": {},
   "source": [
    "These are the **keys**, but what about the **values**?\n",
    "\n",
    "When using a simple loop over the whole dictionary, you can use the dictionary method `iteritems()` and build the loop like this instead:"
   ]
  },
  {
   "cell_type": "code",
   "execution_count": 54,
   "metadata": {
    "collapsed": false
   },
   "outputs": [
    {
     "name": "stdout",
     "output_type": "stream",
     "text": [
      "a 1\n",
      "c 3\n",
      "b 2\n",
      "\n",
      "Printing the square of the value in the dictionary key:\n",
      "a 1\n",
      "c 9\n",
      "b 4\n"
     ]
    }
   ],
   "source": [
    "for d, val in dct.iteritems():\n",
    "    print d, val\n",
    "    \n",
    "print \n",
    "print \"Printing the square of the value in the dictionary key:\"\n",
    "for d, val in dct.iteritems():\n",
    "    print d, val**2"
   ]
  }
 ],
 "metadata": {
  "anaconda-cloud": {},
  "kernelspec": {
   "display_name": "Python [default]",
   "language": "python",
   "name": "python2"
  },
  "language_info": {
   "codemirror_mode": {
    "name": "ipython",
    "version": 2
   },
   "file_extension": ".py",
   "mimetype": "text/x-python",
   "name": "python",
   "nbconvert_exporter": "python",
   "pygments_lexer": "ipython2",
   "version": "2.7.12"
  },
  "toc": {
   "nav_menu": {
    "height": "266px",
    "width": "252px"
   },
   "navigate_menu": true,
   "number_sections": false,
   "sideBar": true,
   "threshold": 4,
   "toc_cell": false,
   "toc_section_display": "block",
   "toc_window_display": false
  }
 },
 "nbformat": 4,
 "nbformat_minor": 0
}
