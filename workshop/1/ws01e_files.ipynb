{
 "cells": [
  {
   "cell_type": "markdown",
   "metadata": {},
   "source": [
    "# WORKSHOP 1 / Python Files Primer \n",
    "\n",
    "* [A quick introduction to Python](01intro_wkshp1nb.ipynb)\n",
    "* [Python string basics](01strings_wkshp1nb.ipynb)\n",
    "* **A quick tour of working with files**\n",
    "* [Introduction to Github](01github_wkshp1nb.ipynb)"
   ]
  },
  {
   "cell_type": "markdown",
   "metadata": {},
   "source": [
    "# Text Files\n",
    "\n",
    "Files in Python are exceedingly easy to work with.  There are a few things to remember when we get started:\n",
    "\n",
    "* the \"end of line\" is a newline (return),\n",
    "* the \"end of file\" is handled for you, so you don't have to worry about checking in the general case,\n",
    "* try initially to think about a text file as a list of lines, where each line is the next entry in the list.\n",
    "\n",
    "## Loading a file\n",
    "A file can be loaded by the absolute or relative path to your executing program.  We'll keep things simple for now and run everything relative.\n",
    "\n",
    "Say we have a file of numbers, where there are *two* numbers per line, each separated by a tab (whitespace).  Let's first pretend we have a list of such numbers:\n"
   ]
  },
  {
   "cell_type": "code",
   "execution_count": 5,
   "metadata": {
    "collapsed": false
   },
   "outputs": [
    {
     "name": "stdout",
     "output_type": "stream",
     "text": [
      "123.8    -38.79\n",
      "123.95    -39.75\n",
      "123.99    -36.79\n"
     ]
    }
   ],
   "source": [
    "lst_of_number_strings = [\"123.8    -38.79\", \"123.95    -39.75\", \"123.99    -36.79\"]\n",
    "for s in lst_of_number_strings:\n",
    "    print s"
   ]
  },
  {
   "cell_type": "markdown",
   "metadata": {},
   "source": [
    "Looks good.  Now let's actually work with a file and try the same thing. To open the file you need to use the following :\n",
    "\n"
   ]
  },
  {
   "cell_type": "code",
   "execution_count": 4,
   "metadata": {
    "collapsed": false
   },
   "outputs": [
    {
     "name": "stdout",
     "output_type": "stream",
     "text": [
      "120.04\t-42.8\n",
      "\n",
      "120.16\t-39.48\n",
      "\n",
      "120.25\t-37.67\n",
      "\n",
      "120.26\t-36.92\n",
      "\n",
      "120.26\t-36.7\n",
      "\n",
      "120.3\t-39.67\n",
      "\n",
      "120.34\t-37.69\n",
      "\n",
      "120.4\t-40.55\n",
      "\n",
      "120.4\t-36.37\n",
      "\n",
      "120.42\t-36.91\n",
      "\n",
      "120.49\t-40.52\n",
      "\n",
      "120.49\t-42.44\n",
      "\n",
      "120.49\t-41.68\n",
      "\n",
      "120.64\t-37.06\n",
      "\n",
      "120.67\t-36.95\n",
      "\n",
      "120.67\t-40.07\n",
      "\n",
      "120.71\t-40.28\n",
      "\n",
      "120.73\t-40.13\n",
      "\n",
      "120.73\t-42.41\n",
      "\n",
      "120.84\t-39.65\n",
      "\n",
      "120.91\t-37.25\n",
      "\n",
      "120.92\t-37.71\n",
      "\n",
      "120.95\t-36.19\n",
      "\n",
      "120.97\t-39.76\n",
      "\n",
      "121.02\t-41.44\n",
      "\n",
      "121.09\t-39.66\n",
      "\n",
      "121.1\t-37.25\n",
      "\n",
      "121.11\t-42.48\n",
      "\n",
      "121.11\t-36.38\n",
      "\n",
      "121.11\t-38.62\n",
      "\n",
      "121.14\t-39.54\n",
      "\n",
      "121.25\t-38.9\n",
      "\n",
      "121.26\t-38.69\n",
      "\n",
      "121.3\t-37.9\n",
      "\n",
      "121.31\t-39.81\n",
      "\n",
      "121.43\t-42.36\n",
      "\n",
      "121.48\t-38.86\n",
      "\n",
      "121.55\t-41.97\n",
      "\n",
      "121.56\t-37.26\n",
      "\n",
      "121.56\t-36.51\n",
      "\n",
      "121.57\t-37.7\n",
      "\n",
      "121.58\t-41.52\n",
      "\n",
      "121.64\t-37.88\n",
      "\n",
      "121.66\t-40.38\n",
      "\n",
      "121.79\t-40.4\n",
      "\n",
      "121.88\t-42.7\n",
      "\n",
      "121.92\t-39.98\n",
      "\n",
      "121.93\t-39.6\n",
      "\n",
      "121.94\t-37.65\n",
      "\n",
      "121.95\t-40.59\n",
      "\n",
      "121.95\t-40.79\n",
      "\n",
      "122.18\t-37.71\n",
      "\n",
      "122.2\t-36.55\n",
      "\n",
      "122.21\t-42.1\n",
      "\n",
      "122.32\t-38.41\n",
      "\n",
      "122.33\t-42.12\n",
      "\n",
      "122.37\t-40.15\n",
      "\n",
      "122.49\t-38.23\n",
      "\n",
      "122.52\t-41.96\n",
      "\n",
      "122.54\t-40.83\n",
      "\n",
      "122.59\t-39.1\n",
      "\n",
      "122.7\t-41.69\n",
      "\n",
      "122.78\t-40.09\n",
      "\n",
      "122.79\t-37.44\n",
      "\n",
      "122.8\t-37.03\n",
      "\n",
      "122.81\t-38.82\n",
      "\n",
      "122.83\t-39.31\n",
      "\n",
      "122.84\t-37.08\n",
      "\n",
      "122.84\t-38.62\n",
      "\n",
      "122.88\t-40.41\n",
      "\n",
      "122.93\t-40.22\n",
      "\n",
      "122.95\t-42.64\n",
      "\n",
      "123.02\t-39.62\n",
      "\n",
      "123.06\t-41.81\n",
      "\n",
      "123.14\t-39.59\n",
      "\n",
      "123.17\t-38.33\n",
      "\n",
      "123.18\t-38.5\n",
      "\n",
      "123.2\t-39.81\n",
      "\n",
      "123.21\t-36.44\n",
      "\n",
      "123.23\t-41.83\n",
      "\n",
      "123.29\t-37.42\n",
      "\n",
      "123.3\t-41.98\n",
      "\n",
      "123.3\t-40.85\n",
      "\n",
      "123.34\t-37.6\n",
      "\n",
      "123.35\t-36.76\n",
      "\n",
      "123.39\t-36.27\n",
      "\n",
      "123.4\t-37.12\n",
      "\n",
      "123.54\t-41.17\n",
      "\n",
      "123.58\t-37.03\n",
      "\n",
      "123.61\t-37.9\n",
      "\n",
      "123.63\t-42.15\n",
      "\n",
      "123.65\t-41.75\n",
      "\n",
      "123.68\t-41.97\n",
      "\n",
      "123.69\t-39.74\n",
      "\n",
      "123.69\t-39.74\n",
      "\n",
      "123.8\t-42.11\n",
      "\n",
      "123.84\t-38.79\n",
      "\n",
      "123.84\t-36.23\n",
      "\n",
      "123.95\t-39.75\n",
      "\n",
      "123.99\t-36.79\n"
     ]
    }
   ],
   "source": [
    "f = open(\"data/sample_data.txt\")\n",
    "for s in f:\n",
    "    print s\n"
   ]
  },
  {
   "cell_type": "markdown",
   "metadata": {},
   "source": [
    "Cool, huh?\n",
    "\n",
    "Now what if want to do something useful, like **count** the number of lines in the file?  The naive approach is to just count the lines."
   ]
  },
  {
   "cell_type": "code",
   "execution_count": 8,
   "metadata": {
    "collapsed": false
   },
   "outputs": [
    {
     "name": "stdout",
     "output_type": "stream",
     "text": [
      "100\n"
     ]
    }
   ],
   "source": [
    "f = open(\"data/sample_data.txt\")\n",
    "\n",
    "line_count = 0\n",
    "for s in f:\n",
    "    line_count+=1\n",
    "\n",
    "print line_counbt"
   ]
  },
  {
   "cell_type": "markdown",
   "metadata": {},
   "source": [
    "Nice, way to go!  But we can do something a little better - that is we can load all the lines into a list with `readlines()`.  Try this:"
   ]
  },
  {
   "cell_type": "code",
   "execution_count": 10,
   "metadata": {
    "collapsed": false
   },
   "outputs": [
    {
     "name": "stdout",
     "output_type": "stream",
     "text": [
      "['120.04\\t-42.8\\n', '120.16\\t-39.48\\n', '120.25\\t-37.67\\n', '120.26\\t-36.92\\n', '120.26\\t-36.7\\n', '120.3\\t-39.67\\n', '120.34\\t-37.69\\n', '120.4\\t-40.55\\n', '120.4\\t-36.37\\n', '120.42\\t-36.91\\n', '120.49\\t-40.52\\n', '120.49\\t-42.44\\n', '120.49\\t-41.68\\n', '120.64\\t-37.06\\n', '120.67\\t-36.95\\n', '120.67\\t-40.07\\n', '120.71\\t-40.28\\n', '120.73\\t-40.13\\n', '120.73\\t-42.41\\n', '120.84\\t-39.65\\n', '120.91\\t-37.25\\n', '120.92\\t-37.71\\n', '120.95\\t-36.19\\n', '120.97\\t-39.76\\n', '121.02\\t-41.44\\n', '121.09\\t-39.66\\n', '121.1\\t-37.25\\n', '121.11\\t-42.48\\n', '121.11\\t-36.38\\n', '121.11\\t-38.62\\n', '121.14\\t-39.54\\n', '121.25\\t-38.9\\n', '121.26\\t-38.69\\n', '121.3\\t-37.9\\n', '121.31\\t-39.81\\n', '121.43\\t-42.36\\n', '121.48\\t-38.86\\n', '121.55\\t-41.97\\n', '121.56\\t-37.26\\n', '121.56\\t-36.51\\n', '121.57\\t-37.7\\n', '121.58\\t-41.52\\n', '121.64\\t-37.88\\n', '121.66\\t-40.38\\n', '121.79\\t-40.4\\n', '121.88\\t-42.7\\n', '121.92\\t-39.98\\n', '121.93\\t-39.6\\n', '121.94\\t-37.65\\n', '121.95\\t-40.59\\n', '121.95\\t-40.79\\n', '122.18\\t-37.71\\n', '122.2\\t-36.55\\n', '122.21\\t-42.1\\n', '122.32\\t-38.41\\n', '122.33\\t-42.12\\n', '122.37\\t-40.15\\n', '122.49\\t-38.23\\n', '122.52\\t-41.96\\n', '122.54\\t-40.83\\n', '122.59\\t-39.1\\n', '122.7\\t-41.69\\n', '122.78\\t-40.09\\n', '122.79\\t-37.44\\n', '122.8\\t-37.03\\n', '122.81\\t-38.82\\n', '122.83\\t-39.31\\n', '122.84\\t-37.08\\n', '122.84\\t-38.62\\n', '122.88\\t-40.41\\n', '122.93\\t-40.22\\n', '122.95\\t-42.64\\n', '123.02\\t-39.62\\n', '123.06\\t-41.81\\n', '123.14\\t-39.59\\n', '123.17\\t-38.33\\n', '123.18\\t-38.5\\n', '123.2\\t-39.81\\n', '123.21\\t-36.44\\n', '123.23\\t-41.83\\n', '123.29\\t-37.42\\n', '123.3\\t-41.98\\n', '123.3\\t-40.85\\n', '123.34\\t-37.6\\n', '123.35\\t-36.76\\n', '123.39\\t-36.27\\n', '123.4\\t-37.12\\n', '123.54\\t-41.17\\n', '123.58\\t-37.03\\n', '123.61\\t-37.9\\n', '123.63\\t-42.15\\n', '123.65\\t-41.75\\n', '123.68\\t-41.97\\n', '123.69\\t-39.74\\n', '123.69\\t-39.74\\n', '123.8\\t-42.11\\n', '123.84\\t-38.79\\n', '123.84\\t-36.23\\n', '123.95\\t-39.75\\n', '123.99\\t-36.79']\n",
      "100\n"
     ]
    }
   ],
   "source": [
    "f = open(\"data/sample_data.txt\")\n",
    "file_as_list = f.readlines()\n",
    "\n",
    "print file_as_list # ==> ['120.04\\t-42.8\\n', '120.16\\t-39.48\\n', '120.25\\t-37.67\\n' ...]\n",
    "print len(file_as_list) # ==> 100"
   ]
  },
  {
   "cell_type": "markdown",
   "metadata": {},
   "source": [
    "Notice that the strings in the list include '\\t' between the numbers and '\\n' at the end of the line (tab and newline, respectively).  Let's work a little example to see what we can do to convert this string into something more useful.\n",
    "\n",
    "Let's say we want to split this string along the tab character.  Doing so could not be simpler, let see:"
   ]
  },
  {
   "cell_type": "code",
   "execution_count": 11,
   "metadata": {
    "collapsed": false
   },
   "outputs": [
    {
     "name": "stdout",
     "output_type": "stream",
     "text": [
      "['120.04', '-42.8\\n']\n"
     ]
    }
   ],
   "source": [
    "example = file_as_list[0] \n",
    "print example.split('\\t') "
   ]
  },
  {
   "cell_type": "markdown",
   "metadata": {},
   "source": [
    "This is nice -- but what if we wanted to turn this into a tuple.  Remember we can turn a list into a tuple (and visa versa):"
   ]
  },
  {
   "cell_type": "code",
   "execution_count": 14,
   "metadata": {
    "collapsed": false
   },
   "outputs": [
    {
     "name": "stdout",
     "output_type": "stream",
     "text": [
      "('120.04', '-42.8\\n')\n"
     ]
    }
   ],
   "source": [
    "my_tuple = tuple(example.split('\\t'))\n",
    "print my_tuple"
   ]
  },
  {
   "cell_type": "markdown",
   "metadata": {},
   "source": [
    "In this case, we don't gain anything by converting to a tuple, but this can noneless be interesting down the road.  Notice something interesting here -- that is there is a '\\n' at the end of the second string.  This is the newline character that was in the original file.  Unfortunately, this character is still with us and we really don't want it to be.  Never fret, there is an easy way out.  All strings have a method called `strip()` that will remove_whitespace characters_ (spaces, newlines, tabs) from the _beginning_ **and** _end_ of the string like so:"
   ]
  },
  {
   "cell_type": "code",
   "execution_count": 16,
   "metadata": {
    "collapsed": false
   },
   "outputs": [
    {
     "name": "stdout",
     "output_type": "stream",
     "text": [
      "120.04\t-42.8\n",
      "['120.04', '-42.8']\n"
     ]
    }
   ],
   "source": [
    "# remove the whitespace (including newlines)\n",
    "example = file_as_list[0].strip()\n",
    "print example # ==> '120.04\\t-42.8'\n",
    "\n",
    "# now we can split the string to make a list\n",
    "print example.split('\\t') # ==> ['120.04', '-42.8']\n"
   ]
  },
  {
   "cell_type": "markdown",
   "metadata": {},
   "source": [
    "### Lists again ...\n",
    "As we can see, lists are really important in Python.  So much so that the language has provided a shortcut to making lists easier when you need to compose one fast.  Let say we want to take the **list of strings** and make that a **list of lists**.  In other words, let's say we want our file to look like the list: [['120.04', '-42.8'], ['120.16', '-39.48'], ...].  Getting the list os strings into this form could be very valuable for searching, sorting, etc. down the road.  Let's look at the straightforward way to do this with just loops:\n"
   ]
  },
  {
   "cell_type": "code",
   "execution_count": 19,
   "metadata": {
    "collapsed": false
   },
   "outputs": [
    {
     "name": "stdout",
     "output_type": "stream",
     "text": [
      "[['120.04', '-42.8'], ['120.16', '-39.48'], ['120.25', '-37.67'], ['120.26', '-36.92'], ['120.26', '-36.7'], ['120.3', '-39.67'], ['120.34', '-37.69'], ['120.4', '-40.55'], ['120.4', '-36.37'], ['120.42', '-36.91'], ['120.49', '-40.52'], ['120.49', '-42.44'], ['120.49', '-41.68'], ['120.64', '-37.06'], ['120.67', '-36.95'], ['120.67', '-40.07'], ['120.71', '-40.28'], ['120.73', '-40.13'], ['120.73', '-42.41'], ['120.84', '-39.65'], ['120.91', '-37.25'], ['120.92', '-37.71'], ['120.95', '-36.19'], ['120.97', '-39.76'], ['121.02', '-41.44'], ['121.09', '-39.66'], ['121.1', '-37.25'], ['121.11', '-42.48'], ['121.11', '-36.38'], ['121.11', '-38.62'], ['121.14', '-39.54'], ['121.25', '-38.9'], ['121.26', '-38.69'], ['121.3', '-37.9'], ['121.31', '-39.81'], ['121.43', '-42.36'], ['121.48', '-38.86'], ['121.55', '-41.97'], ['121.56', '-37.26'], ['121.56', '-36.51'], ['121.57', '-37.7'], ['121.58', '-41.52'], ['121.64', '-37.88'], ['121.66', '-40.38'], ['121.79', '-40.4'], ['121.88', '-42.7'], ['121.92', '-39.98'], ['121.93', '-39.6'], ['121.94', '-37.65'], ['121.95', '-40.59'], ['121.95', '-40.79'], ['122.18', '-37.71'], ['122.2', '-36.55'], ['122.21', '-42.1'], ['122.32', '-38.41'], ['122.33', '-42.12'], ['122.37', '-40.15'], ['122.49', '-38.23'], ['122.52', '-41.96'], ['122.54', '-40.83'], ['122.59', '-39.1'], ['122.7', '-41.69'], ['122.78', '-40.09'], ['122.79', '-37.44'], ['122.8', '-37.03'], ['122.81', '-38.82'], ['122.83', '-39.31'], ['122.84', '-37.08'], ['122.84', '-38.62'], ['122.88', '-40.41'], ['122.93', '-40.22'], ['122.95', '-42.64'], ['123.02', '-39.62'], ['123.06', '-41.81'], ['123.14', '-39.59'], ['123.17', '-38.33'], ['123.18', '-38.5'], ['123.2', '-39.81'], ['123.21', '-36.44'], ['123.23', '-41.83'], ['123.29', '-37.42'], ['123.3', '-41.98'], ['123.3', '-40.85'], ['123.34', '-37.6'], ['123.35', '-36.76'], ['123.39', '-36.27'], ['123.4', '-37.12'], ['123.54', '-41.17'], ['123.58', '-37.03'], ['123.61', '-37.9'], ['123.63', '-42.15'], ['123.65', '-41.75'], ['123.68', '-41.97'], ['123.69', '-39.74'], ['123.69', '-39.74'], ['123.8', '-42.11'], ['123.84', '-38.79'], ['123.84', '-36.23'], ['123.95', '-39.75'], ['123.99', '-36.79']]\n"
     ]
    }
   ],
   "source": [
    "list_of_lists = []\n",
    "for s in file_as_list:\n",
    "    s_split = s.strip().split('\\t') # ==> ['120.04', '-42.8']\n",
    "    list_of_lists.append(s_split)\n",
    "    \n",
    "print list_of_lists"
   ]
  },
  {
   "cell_type": "markdown",
   "metadata": {},
   "source": [
    "Which gives us what we want!\n",
    "\n",
    "There is a shorthand way to do the same thing _in one line_ using what Pythonistas call **list comprehensions**.  Don't let the fancy name fool you -- this is a useful technique that will make your life easier and code more readable and compact.  To convert the loop above into a **list comprehension** we first must think from the outside and work our way in.  Let's say we want to make an empty list `[]` and inside that list we want to have the items of the list look like `['first_string', 'second_string']`.\n",
    "\n",
    "Consider what the loop fragment `for s in file_list` does.  It gives us the string `'120.04\\t-42.8\\n'` for each item in file list.  Let's assume for a minute that we're allowed to do __one thing__ to each of those items in the loop.  What would it be?  In our case, we want to strip whitespace and split the string at the tab to get the resulting list (`['120.04', '-42.8']`).  Thus, that one thing looks like this `s.strip().split('\\t')`.  \n",
    "\n",
    "Now what we want is just that list of all those two-element list of strings.  Thus, if we put all that together:"
   ]
  },
  {
   "cell_type": "code",
   "execution_count": 22,
   "metadata": {
    "collapsed": false
   },
   "outputs": [
    {
     "name": "stdout",
     "output_type": "stream",
     "text": [
      "[['120.04', '-42.8'], ['120.16', '-39.48'], ['120.25', '-37.67'], ['120.26', '-36.92'], ['120.26', '-36.7'], ['120.3', '-39.67'], ['120.34', '-37.69'], ['120.4', '-40.55'], ['120.4', '-36.37'], ['120.42', '-36.91'], ['120.49', '-40.52'], ['120.49', '-42.44'], ['120.49', '-41.68'], ['120.64', '-37.06'], ['120.67', '-36.95'], ['120.67', '-40.07'], ['120.71', '-40.28'], ['120.73', '-40.13'], ['120.73', '-42.41'], ['120.84', '-39.65'], ['120.91', '-37.25'], ['120.92', '-37.71'], ['120.95', '-36.19'], ['120.97', '-39.76'], ['121.02', '-41.44'], ['121.09', '-39.66'], ['121.1', '-37.25'], ['121.11', '-42.48'], ['121.11', '-36.38'], ['121.11', '-38.62'], ['121.14', '-39.54'], ['121.25', '-38.9'], ['121.26', '-38.69'], ['121.3', '-37.9'], ['121.31', '-39.81'], ['121.43', '-42.36'], ['121.48', '-38.86'], ['121.55', '-41.97'], ['121.56', '-37.26'], ['121.56', '-36.51'], ['121.57', '-37.7'], ['121.58', '-41.52'], ['121.64', '-37.88'], ['121.66', '-40.38'], ['121.79', '-40.4'], ['121.88', '-42.7'], ['121.92', '-39.98'], ['121.93', '-39.6'], ['121.94', '-37.65'], ['121.95', '-40.59'], ['121.95', '-40.79'], ['122.18', '-37.71'], ['122.2', '-36.55'], ['122.21', '-42.1'], ['122.32', '-38.41'], ['122.33', '-42.12'], ['122.37', '-40.15'], ['122.49', '-38.23'], ['122.52', '-41.96'], ['122.54', '-40.83'], ['122.59', '-39.1'], ['122.7', '-41.69'], ['122.78', '-40.09'], ['122.79', '-37.44'], ['122.8', '-37.03'], ['122.81', '-38.82'], ['122.83', '-39.31'], ['122.84', '-37.08'], ['122.84', '-38.62'], ['122.88', '-40.41'], ['122.93', '-40.22'], ['122.95', '-42.64'], ['123.02', '-39.62'], ['123.06', '-41.81'], ['123.14', '-39.59'], ['123.17', '-38.33'], ['123.18', '-38.5'], ['123.2', '-39.81'], ['123.21', '-36.44'], ['123.23', '-41.83'], ['123.29', '-37.42'], ['123.3', '-41.98'], ['123.3', '-40.85'], ['123.34', '-37.6'], ['123.35', '-36.76'], ['123.39', '-36.27'], ['123.4', '-37.12'], ['123.54', '-41.17'], ['123.58', '-37.03'], ['123.61', '-37.9'], ['123.63', '-42.15'], ['123.65', '-41.75'], ['123.68', '-41.97'], ['123.69', '-39.74'], ['123.69', '-39.74'], ['123.8', '-42.11'], ['123.84', '-38.79'], ['123.84', '-36.23'], ['123.95', '-39.75'], ['123.99', '-36.79']]\n"
     ]
    }
   ],
   "source": [
    "list_of_lists = [ s.strip().split('\\t')  for s in file_as_list ]\n",
    "print list_of_lists"
   ]
  },
  {
   "cell_type": "markdown",
   "metadata": {},
   "source": [
    "**Awesome!**\n",
    "\n",
    "## Back to files\n",
    "Now let's get back to files and introduce a few typical text file types.  A lot data you might work with will come as a CSV, TSV or something similar\n",
    "\n",
    "\n",
    "|File type  |   |   Looks like |\n",
    "|----|----|-----|\n",
    "|CSV  |Comma Separated Values | `a, b, c`  |\n",
    "|TSV  |Tab Separated Values   | `a <tab> b <tab> c` |\n",
    "\n",
    "Python provides a library for specifically working with CSV files, which will greatly reduce the amount of work you will be doing to work with the files.  Later when we move to Pandas, we'll advance our knowledge even further and dispense with the pleasantries of caring about the details of the CSV altogether.\n",
    "\n",
    "For now, though, let's get a quick understanding of working with a CSV file.\n",
    "\n",
    "### The `csv` library\n",
    "\n",
    "When you are clear of the basics of files, you can forget what you know and move on to the `csv` library -- which takes even more work off your hands.  Essentially this library raises the bar a bit more and allows you to perform some more abstractions on the file.  In particular the library (despite its name) allows you to process CSV, TSV and any the xSV file that has a well known delimiter ('|', '~', etc.).\n",
    "\n",
    "The code will look a lot like your previous code, but with some extra niceties:"
   ]
  },
  {
   "cell_type": "code",
   "execution_count": 24,
   "metadata": {
    "collapsed": false
   },
   "outputs": [
    {
     "name": "stdout",
     "output_type": "stream",
     "text": [
      "['120.04', '-42.8']\n",
      "['120.16', '-39.48']\n",
      "['120.25', '-37.67']\n",
      "['120.26', '-36.92']\n",
      "['120.26', '-36.7']\n",
      "['120.3', '-39.67']\n",
      "['120.34', '-37.69']\n",
      "['120.4', '-40.55']\n",
      "['120.4', '-36.37']\n",
      "['120.42', '-36.91']\n",
      "['120.49', '-40.52']\n",
      "['120.49', '-42.44']\n",
      "['120.49', '-41.68']\n",
      "['120.64', '-37.06']\n",
      "['120.67', '-36.95']\n",
      "['120.67', '-40.07']\n",
      "['120.71', '-40.28']\n",
      "['120.73', '-40.13']\n",
      "['120.73', '-42.41']\n",
      "['120.84', '-39.65']\n",
      "['120.91', '-37.25']\n",
      "['120.92', '-37.71']\n",
      "['120.95', '-36.19']\n",
      "['120.97', '-39.76']\n",
      "['121.02', '-41.44']\n",
      "['121.09', '-39.66']\n",
      "['121.1', '-37.25']\n",
      "['121.11', '-42.48']\n",
      "['121.11', '-36.38']\n",
      "['121.11', '-38.62']\n",
      "['121.14', '-39.54']\n",
      "['121.25', '-38.9']\n",
      "['121.26', '-38.69']\n",
      "['121.3', '-37.9']\n",
      "['121.31', '-39.81']\n",
      "['121.43', '-42.36']\n",
      "['121.48', '-38.86']\n",
      "['121.55', '-41.97']\n",
      "['121.56', '-37.26']\n",
      "['121.56', '-36.51']\n",
      "['121.57', '-37.7']\n",
      "['121.58', '-41.52']\n",
      "['121.64', '-37.88']\n",
      "['121.66', '-40.38']\n",
      "['121.79', '-40.4']\n",
      "['121.88', '-42.7']\n",
      "['121.92', '-39.98']\n",
      "['121.93', '-39.6']\n",
      "['121.94', '-37.65']\n",
      "['121.95', '-40.59']\n",
      "['121.95', '-40.79']\n",
      "['122.18', '-37.71']\n",
      "['122.2', '-36.55']\n",
      "['122.21', '-42.1']\n",
      "['122.32', '-38.41']\n",
      "['122.33', '-42.12']\n",
      "['122.37', '-40.15']\n",
      "['122.49', '-38.23']\n",
      "['122.52', '-41.96']\n",
      "['122.54', '-40.83']\n",
      "['122.59', '-39.1']\n",
      "['122.7', '-41.69']\n",
      "['122.78', '-40.09']\n",
      "['122.79', '-37.44']\n",
      "['122.8', '-37.03']\n",
      "['122.81', '-38.82']\n",
      "['122.83', '-39.31']\n",
      "['122.84', '-37.08']\n",
      "['122.84', '-38.62']\n",
      "['122.88', '-40.41']\n",
      "['122.93', '-40.22']\n",
      "['122.95', '-42.64']\n",
      "['123.02', '-39.62']\n",
      "['123.06', '-41.81']\n",
      "['123.14', '-39.59']\n",
      "['123.17', '-38.33']\n",
      "['123.18', '-38.5']\n",
      "['123.2', '-39.81']\n",
      "['123.21', '-36.44']\n",
      "['123.23', '-41.83']\n",
      "['123.29', '-37.42']\n",
      "['123.3', '-41.98']\n",
      "['123.3', '-40.85']\n",
      "['123.34', '-37.6']\n",
      "['123.35', '-36.76']\n",
      "['123.39', '-36.27']\n",
      "['123.4', '-37.12']\n",
      "['123.54', '-41.17']\n",
      "['123.58', '-37.03']\n",
      "['123.61', '-37.9']\n",
      "['123.63', '-42.15']\n",
      "['123.65', '-41.75']\n",
      "['123.68', '-41.97']\n",
      "['123.69', '-39.74']\n",
      "['123.69', '-39.74']\n",
      "['123.8', '-42.11']\n",
      "['123.84', '-38.79']\n",
      "['123.84', '-36.23']\n",
      "['123.95', '-39.75']\n",
      "['123.99', '-36.79']\n"
     ]
    }
   ],
   "source": [
    "\n",
    "import csv\n",
    "with open('data/sample_data.txt') as f:\n",
    "    csv_reader = csv.reader(f, delimiter='\\t') # necessary because the file is TAB delimited\n",
    "\n",
    "    for l in csv_reader:\n",
    "        print l\n"
   ]
  },
  {
   "cell_type": "code",
   "execution_count": null,
   "metadata": {
    "collapsed": true
   },
   "outputs": [],
   "source": [
    "This may seem unremarkable but the advantage now is that we can assign the columns a name and then reference the data by name instead of index.  So using the DictReader` and optional parameter `fieldnames` we can give the fields whatever name we want and then access them by that name,\n"
   ]
  },
  {
   "cell_type": "code",
   "execution_count": 30,
   "metadata": {
    "collapsed": false
   },
   "outputs": [
    {
     "name": "stdout",
     "output_type": "stream",
     "text": [
      "120.04\n",
      "120.16\n",
      "120.25\n",
      "120.26\n",
      "120.26\n",
      "120.3\n",
      "120.34\n",
      "120.4\n",
      "120.4\n",
      "120.42\n",
      "120.49\n",
      "120.49\n",
      "120.49\n",
      "120.64\n",
      "120.67\n",
      "120.67\n",
      "120.71\n",
      "120.73\n",
      "120.73\n",
      "120.84\n",
      "120.91\n",
      "120.92\n",
      "120.95\n",
      "120.97\n",
      "121.02\n",
      "121.09\n",
      "121.1\n",
      "121.11\n",
      "121.11\n",
      "121.11\n",
      "121.14\n",
      "121.25\n",
      "121.26\n",
      "121.3\n",
      "121.31\n",
      "121.43\n",
      "121.48\n",
      "121.55\n",
      "121.56\n",
      "121.56\n",
      "121.57\n",
      "121.58\n",
      "121.64\n",
      "121.66\n",
      "121.79\n",
      "121.88\n",
      "121.92\n",
      "121.93\n",
      "121.94\n",
      "121.95\n",
      "121.95\n",
      "122.18\n",
      "122.2\n",
      "122.21\n",
      "122.32\n",
      "122.33\n",
      "122.37\n",
      "122.49\n",
      "122.52\n",
      "122.54\n",
      "122.59\n",
      "122.7\n",
      "122.78\n",
      "122.79\n",
      "122.8\n",
      "122.81\n",
      "122.83\n",
      "122.84\n",
      "122.84\n",
      "122.88\n",
      "122.93\n",
      "122.95\n",
      "123.02\n",
      "123.06\n",
      "123.14\n",
      "123.17\n",
      "123.18\n",
      "123.2\n",
      "123.21\n",
      "123.23\n",
      "123.29\n",
      "123.3\n",
      "123.3\n",
      "123.34\n",
      "123.35\n",
      "123.39\n",
      "123.4\n",
      "123.54\n",
      "123.58\n",
      "123.61\n",
      "123.63\n",
      "123.65\n",
      "123.68\n",
      "123.69\n",
      "123.69\n",
      "123.8\n",
      "123.84\n",
      "123.84\n",
      "123.95\n",
      "123.99\n"
     ]
    }
   ],
   "source": [
    "import csv\n",
    "with open('data/sample_data.txt') as f:\n",
    "    csv_reader = csv.DictReader(f, delimiter='\\t', fieldnames=['lat', 'lon'])\n",
    "\n",
    "    for l in csv_reader:\n",
    "        print l['lat'] # instead of l[0]\n"
   ]
  },
  {
   "cell_type": "markdown",
   "metadata": {},
   "source": [
    "You might be wondering, **what if** the file already has a header row ... then we just omit the `fieldnames` and use the names in the header row:\n"
   ]
  },
  {
   "cell_type": "code",
   "execution_count": 2,
   "metadata": {
    "collapsed": false
   },
   "outputs": [
    {
     "ename": "TypeError",
     "evalue": "'header' is an invalid keyword argument for this function",
     "output_type": "error",
     "traceback": [
      "\u001b[1;31m---------------------------------------------------------------------------\u001b[0m",
      "\u001b[1;31mTypeError\u001b[0m                                 Traceback (most recent call last)",
      "\u001b[1;32m<ipython-input-2-a4e24566da2f>\u001b[0m in \u001b[0;36m<module>\u001b[1;34m()\u001b[0m\n\u001b[0;32m      1\u001b[0m \u001b[1;32mimport\u001b[0m \u001b[0mcsv\u001b[0m\u001b[1;33m\u001b[0m\u001b[0m\n\u001b[0;32m      2\u001b[0m \u001b[1;32mwith\u001b[0m \u001b[0mopen\u001b[0m\u001b[1;33m(\u001b[0m\u001b[1;34m'data/sample_data.txt'\u001b[0m\u001b[1;33m)\u001b[0m \u001b[1;32mas\u001b[0m \u001b[0mf\u001b[0m\u001b[1;33m:\u001b[0m\u001b[1;33m\u001b[0m\u001b[0m\n\u001b[1;32m----> 3\u001b[1;33m     \u001b[0mcsv_reader\u001b[0m \u001b[1;33m=\u001b[0m \u001b[0mcsv\u001b[0m\u001b[1;33m.\u001b[0m\u001b[0mDictReader\u001b[0m\u001b[1;33m(\u001b[0m\u001b[0mf\u001b[0m\u001b[1;33m,\u001b[0m \u001b[0mdelimiter\u001b[0m\u001b[1;33m=\u001b[0m\u001b[1;34m'\\t'\u001b[0m\u001b[1;33m,\u001b[0m \u001b[0mheader\u001b[0m\u001b[1;33m=\u001b[0m\u001b[0mTrue\u001b[0m\u001b[1;33m)\u001b[0m\u001b[1;33m\u001b[0m\u001b[0m\n\u001b[0m\u001b[0;32m      4\u001b[0m \u001b[1;33m\u001b[0m\u001b[0m\n\u001b[0;32m      5\u001b[0m     \u001b[1;32mfor\u001b[0m \u001b[0ml\u001b[0m \u001b[1;32min\u001b[0m \u001b[0mcsv_reader\u001b[0m\u001b[1;33m:\u001b[0m\u001b[1;33m\u001b[0m\u001b[0m\n",
      "\u001b[1;32mC:\\Python_Anaconda_2_4_0_0_64b\\lib\\csv.pyc\u001b[0m in \u001b[0;36m__init__\u001b[1;34m(self, f, fieldnames, restkey, restval, dialect, *args, **kwds)\u001b[0m\n\u001b[0;32m     77\u001b[0m         \u001b[0mself\u001b[0m\u001b[1;33m.\u001b[0m\u001b[0mrestkey\u001b[0m \u001b[1;33m=\u001b[0m \u001b[0mrestkey\u001b[0m          \u001b[1;31m# key to catch long rows\u001b[0m\u001b[1;33m\u001b[0m\u001b[0m\n\u001b[0;32m     78\u001b[0m         \u001b[0mself\u001b[0m\u001b[1;33m.\u001b[0m\u001b[0mrestval\u001b[0m \u001b[1;33m=\u001b[0m \u001b[0mrestval\u001b[0m          \u001b[1;31m# default value for short rows\u001b[0m\u001b[1;33m\u001b[0m\u001b[0m\n\u001b[1;32m---> 79\u001b[1;33m         \u001b[0mself\u001b[0m\u001b[1;33m.\u001b[0m\u001b[0mreader\u001b[0m \u001b[1;33m=\u001b[0m \u001b[0mreader\u001b[0m\u001b[1;33m(\u001b[0m\u001b[0mf\u001b[0m\u001b[1;33m,\u001b[0m \u001b[0mdialect\u001b[0m\u001b[1;33m,\u001b[0m \u001b[1;33m*\u001b[0m\u001b[0margs\u001b[0m\u001b[1;33m,\u001b[0m \u001b[1;33m**\u001b[0m\u001b[0mkwds\u001b[0m\u001b[1;33m)\u001b[0m\u001b[1;33m\u001b[0m\u001b[0m\n\u001b[0m\u001b[0;32m     80\u001b[0m         \u001b[0mself\u001b[0m\u001b[1;33m.\u001b[0m\u001b[0mdialect\u001b[0m \u001b[1;33m=\u001b[0m \u001b[0mdialect\u001b[0m\u001b[1;33m\u001b[0m\u001b[0m\n\u001b[0;32m     81\u001b[0m         \u001b[0mself\u001b[0m\u001b[1;33m.\u001b[0m\u001b[0mline_num\u001b[0m \u001b[1;33m=\u001b[0m \u001b[1;36m0\u001b[0m\u001b[1;33m\u001b[0m\u001b[0m\n",
      "\u001b[1;31mTypeError\u001b[0m: 'header' is an invalid keyword argument for this function"
     ]
    }
   ],
   "source": [
    "import csv\n",
    "with open('data/sample_data.txt') as f:\n",
    "    csv_reader = csv.DictReader(f, delimiter='\\t', header=True)\n",
    "\n",
    "    for l in csv_reader:\n",
    "        print l['lat'] # instead of l[0]\n"
   ]
  },
  {
   "cell_type": "markdown",
   "metadata": {},
   "source": [
    "Now go and have some fun with files!"
   ]
  }
 ],
 "metadata": {
  "kernelspec": {
   "display_name": "Python 2",
   "language": "python",
   "name": "python2"
  },
  "language_info": {
   "codemirror_mode": {
    "name": "ipython",
    "version": 2
   },
   "file_extension": ".py",
   "mimetype": "text/x-python",
   "name": "python",
   "nbconvert_exporter": "python",
   "pygments_lexer": "ipython2",
   "version": "2.7.11"
  }
 },
 "nbformat": 4,
 "nbformat_minor": 0
}
