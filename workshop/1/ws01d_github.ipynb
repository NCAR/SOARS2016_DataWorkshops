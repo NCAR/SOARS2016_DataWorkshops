{
 "cells": [
  {
   "cell_type": "markdown",
   "metadata": {},
   "source": [
    "# WORKSHOP 1 / Github Basics\n",
    "\n",
    "**WORKSHOP NAVIGATION**\n",
    "\n",
    "---\n",
    "\n",
    "* [A quick introduction to Python](01intro_wkshp1nb.ipynb)\n",
    "* [Python string basics](01strings_wkshp1nb.ipynb)\n",
    "* [A quick tour of working with files](01files_wkshp1nb.ipynb)\n",
    "* **Introduction to Github**\n",
    "\n",
    "---\n",
    "**CONTENTS OF THIS FILE**\n",
    "\n",
    "<p><div class=\"lev1 toc-item\"><a href=\"#WORKSHOP-1-/-Github-Basics\" data-toc-modified-id=\"WORKSHOP-1-/-Github-Basics-1\"><span class=\"toc-item-num\">1&nbsp;&nbsp;</span>WORKSHOP 1 / Github Basics</a></div><div class=\"lev2 toc-item\"><a href=\"#Github-in-10-minutes-or-less\" data-toc-modified-id=\"Github-in-10-minutes-or-less-11\"><span class=\"toc-item-num\">1.1&nbsp;&nbsp;</span>Github in 10 minutes or less</a></div><div class=\"lev3 toc-item\"><a href=\"#Revision-Control-in-60-seconds\" data-toc-modified-id=\"Revision-Control-in-60-seconds-111\"><span class=\"toc-item-num\">1.1.1&nbsp;&nbsp;</span>Revision Control in 60 seconds</a></div><div class=\"lev3 toc-item\"><a href=\"#What's-Git-all-about?\" data-toc-modified-id=\"What's-Git-all-about?-112\"><span class=\"toc-item-num\">1.1.2&nbsp;&nbsp;</span>What's Git all about?</a></div><div class=\"lev3 toc-item\"><a href=\"#Projects-<=>-Repositorities\" data-toc-modified-id=\"Projects-<=>-Repositorities-113\"><span class=\"toc-item-num\">1.1.3&nbsp;&nbsp;</span>Projects &lt;=&gt; Repositorities</a></div>\n",
    "\n",
    "---"
   ]
  },
  {
   "cell_type": "markdown",
   "metadata": {},
   "source": [
    "## Github in 10 minutes or less\n",
    "[Github](https://www.github.com) is a system / web application / platform that provides a beautiful way to store, view, manage, share and revise code.  While the primary content on Github is _running_ software, whether that be in C, Java, HTML, Python or the many hundreds of other languages in popular use today, it can also be a place for traditional text files (data, papers) and other binary data (Word/Excel documents, images, etc.)  Github's strength is in the ability for it to facilitate software collaboration, and today it is the premier place on the web for large scale open-source, collaborative software projects.  Though open and public projects are Github's forte, it provides the ability for you to host private projects and allows you to make the decision later whether it is appropriate to make such projects public or not.\n",
    "\n",
    "### Revision Control in 60 seconds\n",
    "Github is built on top of what is called **git**, which is a __revision control system__.  The core concept behind such systems is that they manage your text-based code files and allow you to keep track of the changes (revisions) to those files.  In a system like **git** you can invite others to work on your code as well, which can allow more than one person to make contributions to the code.  What is even more useful is that such changes can be tracked across a project so that those contributions and changes can be seen, reviewed, modified and otherwise managed.  Thus, when someone (even you) makes a change to a file (or files) and makes those changes known to the revision control system, others with access to those files can not only see those changes, but integrate them into their own.\n",
    "\n",
    "Git provides a great deal of functionality which might appear to be complex and overwhelming.  Most of the functionality you will need in the basic daily use case is very narrow, so don't be discouraged by the depth and complexity of git's documentation.\n",
    "\n",
    "### What's Git all about?\n",
    "In revision control systems your code is typically stored in a **repository** and that repository  often lives and is managed on a remote server.  This is done for a variety of reasons, one if which is to provide others access to your code.  Git has the advantage of such code and its revisions being controlled locally and only when you're ready can those changes optionally be put onto the remote server.  The relationship between Git and Github is that Github provides a nice visual shell over Git and also serves as the remote git server, so you don't have to think about it when you want to share your code with others (or have a remote copy of it).\n",
    "\n",
    "You will always need to install git on your local system, and don't ever _have to have_ a remote server, but if that is the case, the code in such a local project will never be seen by, or syncronized with (backed up on) a remote server, thus making it difficult to (though not technically impossible) share with others in the general case.\n",
    "\n",
    "### Projects <=> Repositorities\n",
    "In git your code lives in a repository.  This is simply the location/directory for your files and it lives (initially) local to your file system on your computer.  You can create a repository anywhere on your file system, but it is often a good practice to keep git repositories in a common location when it makes sense to do so.  Furthermore, there is no limit to the number of repositories or the number of files under the control of a repository.\n",
    "\n",
    "You can consider a repository as a project containing a single focus of interest.  For example, you might think if your repository as containing a single complete software application you're building.  Similarly, you might think of it as a place for all the files of a single course over a semester, or a single topic of interest.  Your concept of \"project\" isn't really restricted, though there are some best practices.\n",
    "\n",
    "In Github, as in git, the anchor of a project is the repository."
   ]
  }
 ],
 "metadata": {
  "anaconda-cloud": {},
  "kernelspec": {
   "display_name": "Python [default]",
   "language": "python",
   "name": "python2"
  },
  "language_info": {
   "codemirror_mode": {
    "name": "ipython",
    "version": 2
   },
   "file_extension": ".py",
   "mimetype": "text/x-python",
   "name": "python",
   "nbconvert_exporter": "python",
   "pygments_lexer": "ipython2",
   "version": "2.7.12"
  },
  "toc": {
   "nav_menu": {
    "height": "104px",
    "width": "252px"
   },
   "navigate_menu": true,
   "number_sections": false,
   "sideBar": true,
   "threshold": 4,
   "toc_cell": false,
   "toc_position": {
    "height": "617px",
    "left": "0px",
    "right": "517.5px",
    "top": "106px",
    "width": "201px"
   },
   "toc_section_display": "block",
   "toc_window_display": false
  }
 },
 "nbformat": 4,
 "nbformat_minor": 0
}
