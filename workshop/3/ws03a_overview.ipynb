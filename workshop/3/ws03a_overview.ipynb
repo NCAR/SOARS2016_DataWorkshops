{
 "cells": [
  {
   "cell_type": "markdown",
   "metadata": {},
   "source": [
    "# WORKSHOP 3\n",
    "> Float like a butterfly, sting like a bee. ~ Muhammad Ali _(January 17, 1942 - June 3, 2016)_\n",
    "\n",
    "## Goals\n",
    "* quick review of workshop 2 [exercises](https://github.com/NCAR/SOARS2016_DataWorkshops/tree/master/workshop/2/exercises) and my proposed [solutions]((https://github.com/NCAR/SOARS2016_DataWorkshops/tree/master/workshop/2/exercises/solutions.ipynb))\n",
    "* more [Pandas](https://pandas.pydata.org): merging, groupby and missing data\n",
    "* more [indexing, slicing and filtering](http://pandas.pydata.org/pandas-docs/stable/indexing.html#indexing-and-selecting-data) a Dataframe to get the data of interest\n",
    "* more stats operations ([describe()](http://pandas.pydata.org/pandas-docs/stable/generated/pandas.DataFrame.describe.html#pandas.DataFrame.describe), [mean()](http://pandas.pydata.org/pandas-docs/stable/generated/pandas.DataFrame.mean.html#pandas.DataFrame.mean), [median()](http://pandas.pydata.org/pandas-docs/stable/generated/pandas.DataFrame.median.html#pandas.DataFrame.median), etc.)\n",
    "* an introduction to basic plotting\n",
    "* (time permitting) plotting with [matplotlib](http://matplotlib.org/)\n",
    "* (time permitting) an introduction to [Folium](https://github.com/python-visualization/folium)\n",
    "\n",
    "\n",
    "## Tools\n",
    "In this workshop we're going to go little deeper into Python for scientific computing.  In particular, we're going to talk about Jupyter Notebooks and Pandas.\n",
    "\n",
    "\n",
    "| Tool | Purpose |\n",
    "|------|---------|\n",
    "|matplotlib|[matplotlib](http://matplotlib.org) is the de facto plotting library for graphs, plots and charts.  It integrates directly into your notebook and plots can be exported into papers, websites, etc.|\n",
    "|Folium|[Folium](https://folium.readthedocs.io/en/latest/) is a really excellent (albeit new and maturing) library for interactive map generation.  Not only is it coole, it is easy to use and get results fast.|\n",
    "|Jupyter Notebooks (NB)|[Jupyter Notebooks](https://jupyter.org) are a compact, interactive way to allow you to do EDA (Exploratory Data Analysis).  You can create notebooks that are private, share them on Github and [nbviewer](http://nbviewer.jupyter.org/)|\n",
    "|Pandas|[Pandas](http://pandas.pydata.org/) is a Python library that allows you to do data manipulations and provides basic statistical tools to operate over that data.  It will save us a lot of time, and some of the text file contortions we did in Workshop 1 will not longer be necessary. |\n",
    "\n",
    "## In-workshop notebook ...\n",
    "The workbook that we did in the workshop can be found [here](./ws03_in_workshop_explorations.ipynb).\n",
    "\n",
    "## Exercises\n",
    "Try them out [just for fun or extra practice](./exercises/)."
   ]
  },
  {
   "cell_type": "markdown",
   "metadata": {},
   "source": [
    "## Workshop flow\n",
    "\n",
    "In this workshop we will cover:\n",
    "\n",
    "* [More Pandas](ws03b_more_pandas.ipynb)"
   ]
  }
 ],
 "metadata": {
  "anaconda-cloud": {},
  "kernelspec": {
   "display_name": "Python [default]",
   "language": "python",
   "name": "python2"
  },
  "language_info": {
   "codemirror_mode": {
    "name": "ipython",
    "version": 2
   },
   "file_extension": ".py",
   "mimetype": "text/x-python",
   "name": "python",
   "nbconvert_exporter": "python",
   "pygments_lexer": "ipython2",
   "version": "2.7.12"
  },
  "toc": {
   "nav_menu": {
    "height": "123px",
    "width": "252px"
   },
   "navigate_menu": true,
   "number_sections": false,
   "sideBar": true,
   "threshold": 4,
   "toc_cell": false,
   "toc_section_display": "block",
   "toc_window_display": true
  }
 },
 "nbformat": 4,
 "nbformat_minor": 0
}
